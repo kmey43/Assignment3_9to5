{
    "metadata": {
        "kernelspec": {
            "name": "SQL",
            "display_name": "SQL",
            "language": "sql"
        },
        "language_info": {
            "name": "sql",
            "version": ""
        },
        "extensions": {
            "azuredatastudio": {
                "version": 1,
                "views": []
            }
        }
    },
    "nbformat_minor": 2,
    "nbformat": 4,
    "cells": [
        {
            "cell_type": "markdown",
            "source": [
                "# <span style=\"font-size: 20pt; font-family: Montserrat, sans-serif; color: rgb(92, 148, 206); background-color: rgb(255, 255, 255); font-weight: 700; font-variant-east-asian: normal; vertical-align: baseline; white-space: pre-wrap;\">Graded Assignment 3: 9 to 5</span>\n",
                "\n",
                "  \n",
                "\n",
                "<span style=\"font-size: 10pt; font-family: &quot;Times New Roman&quot;; color: rgb(102, 102, 102); background-color: rgb(255, 255, 255); font-variant-east-asian: normal; vertical-align: baseline; white-space: pre-wrap;\">Time to show off your SQL skills! For each question, copy the SQL query you used and make note of the answer.</span>\n",
                "\n",
                "  \n",
                "\n",
                "## <span style=\"font-size: 12pt; font-family: Montserrat, sans-serif; color: rgb(53, 74, 95); background-color: rgb(255, 255, 255); font-weight: 700; font-variant-east-asian: normal; vertical-align: baseline; white-space: pre-wrap;\">The Dataset</span>\n",
                "\n",
                "<span style=\"font-size: 10pt; font-family: &quot;Times New Roman&quot;; color: rgb(102, 102, 102); background-color: rgb(255, 255, 255); font-variant-east-asian: normal; vertical-align: baseline; white-space: pre-wrap;\">For this assignment, you will be using the Bureau of Labor Statistics (BLS) Current Employment Survey (CES) results which can be found on</span> [<span style=\"font-size: 10pt; font-family: &quot;Times New Roman&quot;; color: rgb(17, 85, 204); background-color: rgb(255, 255, 255); font-variant-east-asian: normal; text-decoration-line: underline; vertical-align: baseline; white-space: pre-wrap;\">Kaggle</span>](https://www.kaggle.com/bls/employment)<span style=\"font-size: 10pt; font-family: &quot;Times New Roman&quot;; color: rgb(102, 102, 102); background-color: rgb(255, 255, 255); font-variant-east-asian: normal; vertical-align: baseline; white-space: pre-wrap;\">.</span>\n",
                "\n",
                "  \n",
                "\n",
                "## <span style=\"font-size: 12pt; font-family: Montserrat, sans-serif; color: rgb(53, 74, 95); background-color: rgb(255, 255, 255); font-weight: 700; font-variant-east-asian: normal; vertical-align: baseline; white-space: pre-wrap;\">Business Issue</span>\n",
                "\n",
                "<span style=\"font-size: 10pt; font-family: &quot;Times New Roman&quot;; color: rgb(102, 102, 102); background-color: rgb(255, 255, 255); font-variant-east-asian: normal; vertical-align: baseline; white-space: pre-wrap;\">You are working for the Bureau of Labor Statistics with the United States government and have been approached by your boss with an important meeting request. You have been asked by your supervisor to meet with Dolly Parton whose nonprofit is looking to shed light on the state of employment in the United States. As part of the 9 to 5 project, their research is focused on production and nonsupervisory employees and how those employees fare compared to all employees in the United States. While the data the BLS collects from the CES is publicly available, Dolly Parton and her colleagues need your assistance navigating the thousands of rows in each table in LaborStatisticsDB.</span>\n",
                "\n",
                "  \n",
                "\n",
                "## <span style=\"font-size: 12pt; font-family: Montserrat, sans-serif; color: rgb(53, 74, 95); background-color: rgb(255, 255, 255); font-weight: 700; font-variant-east-asian: normal; vertical-align: baseline; white-space: pre-wrap;\">About the Dataset</span>\n",
                "\n",
                "<span style=\"font-size: 10pt; font-family: &quot;Times New Roman&quot;; color: rgb(102, 102, 102); background-color: rgb(255, 255, 255); font-variant-east-asian: normal; vertical-align: baseline; white-space: pre-wrap;\">This dataset comes directly from the Bureau of Labor Statistics’ Current Employment Survey (CES). Here are some things you need to know:</span>\n",
                "\n",
                "1. <span style=\"font-size: 10pt; background-color: rgb(255, 255, 255); font-variant-east-asian: normal; vertical-align: baseline; white-space: pre-wrap;\">The industry table contains an NAICS code. This is different from the industry code. NAICS stands for North American Industry Classification System.</span>\n",
                "    \n",
                "2. <span style=\"font-size: 10pt; background-color: rgb(255, 255, 255); font-variant-east-asian: normal; vertical-align: baseline; white-space: pre-wrap;\">Series ID is composed of multiple different codes. CES stands for Current Employment Survey, the name of the survey which collected the data. The industry code as specified by the BLS and the data type code as specified in the datatype table.</span>\n",
                "    \n",
                "\n",
                "  \n",
                "\n",
                "## <span style=\"font-size: 12pt; font-family: Montserrat, sans-serif; color: rgb(53, 74, 95); background-color: rgb(255, 255, 255); font-weight: 700; font-variant-east-asian: normal; vertical-align: baseline; white-space: pre-wrap;\">Set Up</span>\n",
                "\n",
                "<span style=\"font-size: 10pt; font-family: &quot;Times New Roman&quot;; color: rgb(102, 102, 102); background-color: rgb(255, 255, 255); font-variant-east-asian: normal; vertical-align: baseline; white-space: pre-wrap;\">To connect to the database, use the same connection info used during the SQL lessons.&nbsp;</span> \n",
                "\n",
                "<span style=\"font-size: 10pt; font-family: &quot;Times New Roman&quot;; color: rgb(102, 102, 102); background-color: rgb(255, 255, 255); font-variant-east-asian: normal; vertical-align: baseline; white-space: pre-wrap;\">For the assignment, we will be using the LaborStatisticsDB database.</span>\n",
                "\n",
                "  \n",
                "\n",
                "## <span style=\"font-size: 12pt; font-family: Montserrat, sans-serif; color: rgb(53, 74, 95); background-color: rgb(255, 255, 255); font-weight: 700; font-variant-east-asian: normal; vertical-align: baseline; white-space: pre-wrap;\">Database Exploration</span>\n",
                "\n",
                "<span style=\"font-size: 10pt; font-family: &quot;Times New Roman&quot;; color: rgb(102, 102, 102); background-color: rgb(255, 255, 255); font-variant-east-asian: normal; vertical-align: baseline; white-space: pre-wrap;\">To start with, let’s get to know the database further.</span>\n",
                "\n",
                "1. <span style=\"background-color: rgb(255, 255, 255); color: rgb(102, 102, 102); font-family: &quot;Times New Roman&quot;; font-size: 10pt; white-space: pre-wrap;\">Use this space to make note of each table in the database, the columns within each table, each column’s data type, and how the tables are connected. You can write this down or draw a diagram. Whatever method helps you get an understanding of what is going on with LaborStatisticsDB.</span>"
            ],
            "metadata": {
                "azdata_cell_guid": "28ea70c5-f0be-4197-b6c0-ade22886a708"
            },
            "attachments": {}
        },
        {
            "cell_type": "markdown",
            "source": [
                "```\n",
                "To add a photo, diagram or document to your file, drop the file into the folder that holds this notebook.  Use the the link button to the right of the  </> symbol in the gray part of this cell, the link is just the name of your file. Table Mapping https://docs.google.com/spreadsheets/d/1txf-p2iCJa9bQwj9W91Z0RtmGqefQV-8fAkiM7p3_Ps/edit#gid=0\n",
                "\n",
                "```\n",
                "\n",
                "[](.\\graded%20assignment%203%20table%20mapping.PNG)"
            ],
            "metadata": {
                "azdata_cell_guid": "aeae906c-752c-49d3-b482-3ed6a4f54b6e"
            },
            "attachments": {}
        },
        {
            "cell_type": "markdown",
            "source": [
                "[Table Mapping]()"
            ],
            "metadata": {
                "azdata_cell_guid": "9f3dae1a-de0f-4230-8c68-d5b98685fc06"
            },
            "attachments": {}
        },
        {
            "cell_type": "markdown",
            "source": [
                "2. <span style=\"background-color: rgb(255, 255, 255); color: rgb(102, 102, 102); font-family: Arvo, serif; font-size: 10pt; white-space: pre-wrap;\">What is the datatype for women employees?</span>"
            ],
            "metadata": {
                "azdata_cell_guid": "01b111b7-baf1-4617-88bc-cd442826c9c9"
            },
            "attachments": {}
        },
        {
            "cell_type": "code",
            "source": [
                "select*\r\n",
                "from LaborStatisticsDB.dbo.datatype\r\n",
                "where lower(data_type_text)='women employees'"
            ],
            "metadata": {
                "azdata_cell_guid": "02fa547c-0bb7-4a40-81c2-f5c05154df04",
                "language": "sql"
            },
            "outputs": [
                {
                    "output_type": "display_data",
                    "data": {
                        "text/html": "(1 row affected)"
                    },
                    "metadata": {}
                },
                {
                    "output_type": "display_data",
                    "data": {
                        "text/html": "Total execution time: 00:00:00.065"
                    },
                    "metadata": {}
                },
                {
                    "output_type": "execute_result",
                    "execution_count": 5,
                    "data": {
                        "application/vnd.dataresource+json": {
                            "schema": {
                                "fields": [
                                    {
                                        "name": "data_type_code"
                                    },
                                    {
                                        "name": "data_type_text"
                                    }
                                ]
                            },
                            "data": [
                                {
                                    "data_type_code": "10",
                                    "data_type_text": "WOMEN EMPLOYEES"
                                }
                            ]
                        },
                        "text/html": "<table><tr><th>data_type_code</th><th>data_type_text</th></tr><tr><td>10</td><td>WOMEN EMPLOYEES</td></tr></table>"
                    },
                    "metadata": {}
                }
            ],
            "execution_count": 5
        },
        {
            "cell_type": "markdown",
            "source": [
                "3. <span style=\"background-color: rgb(255, 255, 255); font-size: 10pt; white-space: pre-wrap; color: rgb(102, 102, 102); font-family: Arvo, serif;\">What is the series id for&nbsp; women employees in the commercial banking industry in the financial activities supersector?</span>"
            ],
            "metadata": {
                "azdata_cell_guid": "325f85cc-9545-47b3-b975-3aab6278e4ea"
            },
            "attachments": {}
        },
        {
            "cell_type": "code",
            "source": [
                "select*\r\n",
                "from LaborStatisticsDB.dbo.industry\r\n",
                "where lower(industry_name) like '%commercial banking%' "
            ],
            "metadata": {
                "azdata_cell_guid": "f85d8073-372c-4812-b8ba-3f2449c4cd40",
                "language": "sql"
            },
            "outputs": [
                {
                    "output_type": "display_data",
                    "data": {
                        "text/html": "(1 row affected)"
                    },
                    "metadata": {}
                },
                {
                    "output_type": "display_data",
                    "data": {
                        "text/html": "Total execution time: 00:00:00.114"
                    },
                    "metadata": {}
                },
                {
                    "output_type": "execute_result",
                    "execution_count": 16,
                    "data": {
                        "application/vnd.dataresource+json": {
                            "schema": {
                                "fields": [
                                    {
                                        "name": "id"
                                    },
                                    {
                                        "name": "industry_code"
                                    },
                                    {
                                        "name": "naics_code"
                                    },
                                    {
                                        "name": "publishing_status"
                                    },
                                    {
                                        "name": "industry_name"
                                    },
                                    {
                                        "name": "display_level"
                                    },
                                    {
                                        "name": "selectable"
                                    },
                                    {
                                        "name": "sort_sequence"
                                    }
                                ]
                            },
                            "data": [
                                {
                                    "id": "563",
                                    "industry_code": "55522110",
                                    "naics_code": "52211",
                                    "publishing_status": "A",
                                    "industry_name": "Commercial banking",
                                    "display_level": "6",
                                    "selectable": "T",
                                    "sort_sequence": "564"
                                }
                            ]
                        },
                        "text/html": "<table><tr><th>id</th><th>industry_code</th><th>naics_code</th><th>publishing_status</th><th>industry_name</th><th>display_level</th><th>selectable</th><th>sort_sequence</th></tr><tr><td>563</td><td>55522110</td><td>52211</td><td>A</td><td>Commercial banking</td><td>6</td><td>T</td><td>564</td></tr></table>"
                    },
                    "metadata": {}
                }
            ],
            "execution_count": 16
        },
        {
            "cell_type": "code",
            "source": [
                "select*\r\n",
                "from LaborStatisticsDB.dbo.series\r\n",
                "where data_type_code=10\r\n",
                "and industry_code=55522110"
            ],
            "metadata": {
                "azdata_cell_guid": "bf5ba751-8496-4fd9-ab10-238e1c92d089",
                "language": "sql"
            },
            "outputs": [
                {
                    "output_type": "display_data",
                    "data": {
                        "text/html": "(2 rows affected)"
                    },
                    "metadata": {}
                },
                {
                    "output_type": "display_data",
                    "data": {
                        "text/html": "Total execution time: 00:00:00.064"
                    },
                    "metadata": {}
                },
                {
                    "output_type": "execute_result",
                    "execution_count": 10,
                    "data": {
                        "application/vnd.dataresource+json": {
                            "schema": {
                                "fields": [
                                    {
                                        "name": "series_id"
                                    },
                                    {
                                        "name": "supersector_code"
                                    },
                                    {
                                        "name": "industry_code"
                                    },
                                    {
                                        "name": "data_type_code"
                                    },
                                    {
                                        "name": "seasonal"
                                    },
                                    {
                                        "name": "series_title"
                                    }
                                ]
                            },
                            "data": [
                                {
                                    "series_id": "CES5552211010",
                                    "supersector_code": "55",
                                    "industry_code": "55522110",
                                    "data_type_code": "10",
                                    "seasonal": "S",
                                    "series_title": "Women employees"
                                },
                                {
                                    "series_id": "CEU5552211010",
                                    "supersector_code": "55",
                                    "industry_code": "55522110",
                                    "data_type_code": "10",
                                    "seasonal": "U",
                                    "series_title": "Women employees"
                                }
                            ]
                        },
                        "text/html": "<table><tr><th>series_id</th><th>supersector_code</th><th>industry_code</th><th>data_type_code</th><th>seasonal</th><th>series_title</th></tr><tr><td>CES5552211010</td><td>55</td><td>55522110</td><td>10</td><td>S</td><td>Women employees</td></tr><tr><td>CEU5552211010</td><td>55</td><td>55522110</td><td>10</td><td>U</td><td>Women employees</td></tr></table>"
                    },
                    "metadata": {}
                }
            ],
            "execution_count": 10
        },
        {
            "cell_type": "code",
            "source": [
                "select* \r\n",
                "from LaborStatisticsDB.dbo.series s\r\n",
                "join LaborStatisticsDB.dbo.industry i on i.industry_code=s.industry_code\r\n",
                "join LaborStatisticsDB.dbo.datatype d on s.data_type_code=d.data_type_code\r\n",
                "\r\n",
                "where d.data_type_code=10\r\n",
                "and i.industry_code=55522110"
            ],
            "metadata": {
                "language": "sql",
                "azdata_cell_guid": "864abdec-6526-4285-860e-5cfd62cef198"
            },
            "outputs": [
                {
                    "output_type": "display_data",
                    "data": {
                        "text/html": "(2 rows affected)"
                    },
                    "metadata": {}
                },
                {
                    "output_type": "display_data",
                    "data": {
                        "text/html": "Total execution time: 00:00:00.134"
                    },
                    "metadata": {}
                },
                {
                    "output_type": "execute_result",
                    "metadata": {},
                    "execution_count": 23,
                    "data": {
                        "application/vnd.dataresource+json": {
                            "schema": {
                                "fields": [
                                    {
                                        "name": "series_id"
                                    },
                                    {
                                        "name": "supersector_code"
                                    },
                                    {
                                        "name": "industry_code"
                                    },
                                    {
                                        "name": "data_type_code"
                                    },
                                    {
                                        "name": "seasonal"
                                    },
                                    {
                                        "name": "series_title"
                                    },
                                    {
                                        "name": "id"
                                    },
                                    {
                                        "name": "industry_code"
                                    },
                                    {
                                        "name": "naics_code"
                                    },
                                    {
                                        "name": "publishing_status"
                                    },
                                    {
                                        "name": "industry_name"
                                    },
                                    {
                                        "name": "display_level"
                                    },
                                    {
                                        "name": "selectable"
                                    },
                                    {
                                        "name": "sort_sequence"
                                    },
                                    {
                                        "name": "data_type_code"
                                    },
                                    {
                                        "name": "data_type_text"
                                    }
                                ]
                            },
                            "data": [
                                {
                                    "series_id": "CES5552211010",
                                    "supersector_code": "55",
                                    "industry_code": "55522110",
                                    "data_type_code": "10",
                                    "seasonal": "S",
                                    "series_title": "Women employees",
                                    "id": "563",
                                    "naics_code": "52211",
                                    "publishing_status": "A",
                                    "industry_name": "Commercial banking",
                                    "display_level": "6",
                                    "selectable": "T",
                                    "sort_sequence": "564",
                                    "data_type_text": "WOMEN EMPLOYEES"
                                },
                                {
                                    "series_id": "CEU5552211010",
                                    "supersector_code": "55",
                                    "industry_code": "55522110",
                                    "data_type_code": "10",
                                    "seasonal": "U",
                                    "series_title": "Women employees",
                                    "id": "563",
                                    "naics_code": "52211",
                                    "publishing_status": "A",
                                    "industry_name": "Commercial banking",
                                    "display_level": "6",
                                    "selectable": "T",
                                    "sort_sequence": "564",
                                    "data_type_text": "WOMEN EMPLOYEES"
                                }
                            ]
                        },
                        "text/html": [
                            "<table>",
                            "<tr><th>series_id</th><th>supersector_code</th><th>industry_code</th><th>data_type_code</th><th>seasonal</th><th>series_title</th><th>id</th><th>industry_code</th><th>naics_code</th><th>publishing_status</th><th>industry_name</th><th>display_level</th><th>selectable</th><th>sort_sequence</th><th>data_type_code</th><th>data_type_text</th></tr>",
                            "<tr><td>CES5552211010</td><td>55</td><td>55522110</td><td>10</td><td>S</td><td>Women employees</td><td>563</td><td>55522110</td><td>52211</td><td>A</td><td>Commercial banking</td><td>6</td><td>T</td><td>564</td><td>10</td><td>WOMEN EMPLOYEES</td></tr>",
                            "<tr><td>CEU5552211010</td><td>55</td><td>55522110</td><td>10</td><td>U</td><td>Women employees</td><td>563</td><td>55522110</td><td>52211</td><td>A</td><td>Commercial banking</td><td>6</td><td>T</td><td>564</td><td>10</td><td>WOMEN EMPLOYEES</td></tr>",
                            "</table>"
                        ]
                    }
                }
            ],
            "execution_count": 23
        },
        {
            "cell_type": "markdown",
            "source": [
                "## <span style=\"font-size: 12pt; font-family: Montserrat, sans-serif; color: rgb(53, 74, 95); background-color: rgb(255, 255, 255); font-weight: 700; font-variant-numeric: normal; font-variant-east-asian: normal; vertical-align: baseline; white-space: pre-wrap;\">Join in on the Fun</span>\n",
                "\n",
                "<span style=\"font-size: 10pt; font-family: Arvo, serif; color: rgb(102, 102, 102); background-color: rgb(255, 255, 255); font-variant-numeric: normal; font-variant-east-asian: normal; vertical-align: baseline; white-space: pre-wrap;\">Time to start joining! You can choose the type of join you use, just make sure to make a&nbsp; note!</span>\n",
                "\n",
                "1. <span style=\"background-color: rgb(255, 255, 255); font-size: 10pt; white-space: pre-wrap; color: rgb(102, 102, 102); font-family: Arvo, serif;\">Join&nbsp; annual_2016 with series on series_id. We only want the data in the annual_2016 table to be included in the result.</span>"
            ],
            "metadata": {
                "azdata_cell_guid": "ec1dfc63-ad41-4349-8c26-1d326ace8c6c"
            },
            "attachments": {}
        },
        {
            "cell_type": "code",
            "source": [
                "SELECT top 5*\r\n",
                "from LaborStatisticsDB.dbo.annual_2016 a\r\n",
                "left join laborstatisticsdb.dbo.series s on a.series_id=s.series_id"
            ],
            "metadata": {
                "azdata_cell_guid": "cf90f0b4-c482-4fbb-ac17-d2244881caab",
                "language": "sql",
                "tags": []
            },
            "outputs": [
                {
                    "output_type": "display_data",
                    "data": {
                        "text/html": "(5 rows affected)"
                    },
                    "metadata": {}
                },
                {
                    "output_type": "display_data",
                    "data": {
                        "text/html": "Total execution time: 00:00:00.270"
                    },
                    "metadata": {}
                },
                {
                    "output_type": "execute_result",
                    "metadata": {},
                    "execution_count": 34,
                    "data": {
                        "application/vnd.dataresource+json": {
                            "schema": {
                                "fields": [
                                    {
                                        "name": "id"
                                    },
                                    {
                                        "name": "series_id"
                                    },
                                    {
                                        "name": "year"
                                    },
                                    {
                                        "name": "period"
                                    },
                                    {
                                        "name": "value"
                                    },
                                    {
                                        "name": "footnote_codes"
                                    },
                                    {
                                        "name": "original_file"
                                    },
                                    {
                                        "name": "series_id"
                                    },
                                    {
                                        "name": "supersector_code"
                                    },
                                    {
                                        "name": "industry_code"
                                    },
                                    {
                                        "name": "data_type_code"
                                    },
                                    {
                                        "name": "seasonal"
                                    },
                                    {
                                        "name": "series_title"
                                    }
                                ]
                            },
                            "data": [
                                {
                                    "id": "0",
                                    "series_id": "CEU5500000007",
                                    "year": "2016",
                                    "period": "M13",
                                    "value": "36.9",
                                    "footnote_codes": "NULL",
                                    "original_file": "ce.data.55c.FinancialActivities.ProductionEmployeeHoursAndEarnings.csv",
                                    "supersector_code": "55",
                                    "industry_code": "55000000",
                                    "data_type_code": "7",
                                    "seasonal": "U",
                                    "series_title": "Average weekly hours of production and nonsupervisory employees"
                                },
                                {
                                    "id": "1",
                                    "series_id": "CEU5500000008",
                                    "year": "2016",
                                    "period": "M13",
                                    "value": "26.11",
                                    "footnote_codes": "NULL",
                                    "original_file": "ce.data.55c.FinancialActivities.ProductionEmployeeHoursAndEarnings.csv",
                                    "supersector_code": "55",
                                    "industry_code": "55000000",
                                    "data_type_code": "8",
                                    "seasonal": "U",
                                    "series_title": "Average hourly earnings of production and nonsupervisory employees"
                                },
                                {
                                    "id": "2",
                                    "series_id": "CEU5500000030",
                                    "year": "2016",
                                    "period": "M13",
                                    "value": "962.73",
                                    "footnote_codes": "NULL",
                                    "original_file": "ce.data.55c.FinancialActivities.ProductionEmployeeHoursAndEarnings.csv",
                                    "supersector_code": "55",
                                    "industry_code": "55000000",
                                    "data_type_code": "30",
                                    "seasonal": "U",
                                    "series_title": "Average weekly earnings of production and nonsupervisory employees"
                                },
                                {
                                    "id": "3",
                                    "series_id": "CEU5500000031",
                                    "year": "2016",
                                    "period": "M13",
                                    "value": "411.29",
                                    "footnote_codes": "NULL",
                                    "original_file": "ce.data.55c.FinancialActivities.ProductionEmployeeHoursAndEarnings.csv",
                                    "supersector_code": "55",
                                    "industry_code": "55000000",
                                    "data_type_code": "31",
                                    "seasonal": "U",
                                    "series_title": "Average weekly earnings of production and nonsupervisory employees"
                                },
                                {
                                    "id": "4",
                                    "series_id": "CEU5500000032",
                                    "year": "2016",
                                    "period": "M13",
                                    "value": "11.15",
                                    "footnote_codes": "NULL",
                                    "original_file": "ce.data.55c.FinancialActivities.ProductionEmployeeHoursAndEarnings.csv",
                                    "supersector_code": "55",
                                    "industry_code": "55000000",
                                    "data_type_code": "32",
                                    "seasonal": "U",
                                    "series_title": "Average hourly earnings of production and nonsupervisory employees"
                                }
                            ]
                        },
                        "text/html": [
                            "<table>",
                            "<tr><th>id</th><th>series_id</th><th>year</th><th>period</th><th>value</th><th>footnote_codes</th><th>original_file</th><th>series_id</th><th>supersector_code</th><th>industry_code</th><th>data_type_code</th><th>seasonal</th><th>series_title</th></tr>",
                            "<tr><td>0</td><td>CEU5500000007</td><td>2016</td><td>M13</td><td>36.9</td><td>NULL</td><td>ce.data.55c.FinancialActivities.ProductionEmployeeHoursAndEarnings.csv</td><td>CEU5500000007</td><td>55</td><td>55000000</td><td>7</td><td>U</td><td>Average weekly hours of production and nonsupervisory employees</td></tr>",
                            "<tr><td>1</td><td>CEU5500000008</td><td>2016</td><td>M13</td><td>26.11</td><td>NULL</td><td>ce.data.55c.FinancialActivities.ProductionEmployeeHoursAndEarnings.csv</td><td>CEU5500000008</td><td>55</td><td>55000000</td><td>8</td><td>U</td><td>Average hourly earnings of production and nonsupervisory employees</td></tr>",
                            "<tr><td>2</td><td>CEU5500000030</td><td>2016</td><td>M13</td><td>962.73</td><td>NULL</td><td>ce.data.55c.FinancialActivities.ProductionEmployeeHoursAndEarnings.csv</td><td>CEU5500000030</td><td>55</td><td>55000000</td><td>30</td><td>U</td><td>Average weekly earnings of production and nonsupervisory employees</td></tr>",
                            "<tr><td>3</td><td>CEU5500000031</td><td>2016</td><td>M13</td><td>411.29</td><td>NULL</td><td>ce.data.55c.FinancialActivities.ProductionEmployeeHoursAndEarnings.csv</td><td>CEU5500000031</td><td>55</td><td>55000000</td><td>31</td><td>U</td><td>Average weekly earnings of production and nonsupervisory employees</td></tr>",
                            "<tr><td>4</td><td>CEU5500000032</td><td>2016</td><td>M13</td><td>11.15</td><td>NULL</td><td>ce.data.55c.FinancialActivities.ProductionEmployeeHoursAndEarnings.csv</td><td>CEU5500000032</td><td>55</td><td>55000000</td><td>32</td><td>U</td><td>Average hourly earnings of production and nonsupervisory employees</td></tr>",
                            "</table>"
                        ]
                    }
                }
            ],
            "execution_count": 34
        },
        {
            "cell_type": "markdown",
            "source": [
                "2. <span style=\"background-color: rgb(255, 255, 255); font-size: 10pt; white-space: pre-wrap; color: rgb(102, 102, 102); font-family: Arvo, serif;\">Join series and datatype on data_type_code</span>"
            ],
            "metadata": {
                "azdata_cell_guid": "710b59ae-224b-4f9d-b1a4-4a6b89048bbb"
            },
            "attachments": {}
        },
        {
            "cell_type": "code",
            "source": [
                "select top 5*\r\n",
                "from LaborStatisticsDB.dbo.series s\r\n",
                "join LaborStatisticsDB.dbo.datatype d on s.data_type_code=d.data_type_code"
            ],
            "metadata": {
                "azdata_cell_guid": "fca61371-c9b5-4823-a4b4-34c1279ece3e",
                "language": "sql"
            },
            "outputs": [
                {
                    "output_type": "display_data",
                    "data": {
                        "text/html": "(5 rows affected)"
                    },
                    "metadata": {}
                },
                {
                    "output_type": "display_data",
                    "data": {
                        "text/html": "Total execution time: 00:00:00.082"
                    },
                    "metadata": {}
                },
                {
                    "output_type": "execute_result",
                    "metadata": {},
                    "execution_count": 35,
                    "data": {
                        "application/vnd.dataresource+json": {
                            "schema": {
                                "fields": [
                                    {
                                        "name": "series_id"
                                    },
                                    {
                                        "name": "supersector_code"
                                    },
                                    {
                                        "name": "industry_code"
                                    },
                                    {
                                        "name": "data_type_code"
                                    },
                                    {
                                        "name": "seasonal"
                                    },
                                    {
                                        "name": "series_title"
                                    },
                                    {
                                        "name": "data_type_code"
                                    },
                                    {
                                        "name": "data_type_text"
                                    }
                                ]
                            },
                            "data": [
                                {
                                    "series_id": "CES0000000001",
                                    "supersector_code": "0",
                                    "industry_code": "00000000",
                                    "data_type_code": "1",
                                    "seasonal": "S",
                                    "series_title": "All employees",
                                    "data_type_text": "ALL EMPLOYEES"
                                },
                                {
                                    "series_id": "CES0000000010",
                                    "supersector_code": "0",
                                    "industry_code": "00000000",
                                    "data_type_code": "10",
                                    "seasonal": "S",
                                    "series_title": "Women employees",
                                    "data_type_text": "WOMEN EMPLOYEES"
                                },
                                {
                                    "series_id": "CES0000000025",
                                    "supersector_code": "0",
                                    "industry_code": "00000000",
                                    "data_type_code": "25",
                                    "seasonal": "S",
                                    "series_title": "All employees",
                                    "data_type_text": "ALL EMPLOYEES"
                                },
                                {
                                    "series_id": "CES0000000026",
                                    "supersector_code": "0",
                                    "industry_code": "00000000",
                                    "data_type_code": "26",
                                    "seasonal": "S",
                                    "series_title": "All employees",
                                    "data_type_text": "ALL EMPLOYEES"
                                },
                                {
                                    "series_id": "CES0500000001",
                                    "supersector_code": "5",
                                    "industry_code": "05000000",
                                    "data_type_code": "1",
                                    "seasonal": "S",
                                    "series_title": "All employees",
                                    "data_type_text": "ALL EMPLOYEES"
                                }
                            ]
                        },
                        "text/html": [
                            "<table>",
                            "<tr><th>series_id</th><th>supersector_code</th><th>industry_code</th><th>data_type_code</th><th>seasonal</th><th>series_title</th><th>data_type_code</th><th>data_type_text</th></tr>",
                            "<tr><td>CES0000000001</td><td>0</td><td>00000000</td><td>1</td><td>S</td><td>All employees</td><td>1</td><td>ALL EMPLOYEES</td></tr>",
                            "<tr><td>CES0000000010</td><td>0</td><td>00000000</td><td>10</td><td>S</td><td>Women employees</td><td>10</td><td>WOMEN EMPLOYEES</td></tr>",
                            "<tr><td>CES0000000025</td><td>0</td><td>00000000</td><td>25</td><td>S</td><td>All employees</td><td>25</td><td>ALL EMPLOYEES</td></tr>",
                            "<tr><td>CES0000000026</td><td>0</td><td>00000000</td><td>26</td><td>S</td><td>All employees</td><td>26</td><td>ALL EMPLOYEES</td></tr>",
                            "<tr><td>CES0500000001</td><td>5</td><td>05000000</td><td>1</td><td>S</td><td>All employees</td><td>1</td><td>ALL EMPLOYEES</td></tr>",
                            "</table>"
                        ]
                    }
                }
            ],
            "execution_count": 35
        },
        {
            "cell_type": "markdown",
            "source": [
                "3. <span style=\"background-color: rgb(255, 255, 255); font-size: 10pt; white-space: pre-wrap; color: rgb(102, 102, 102); font-family: Arvo, serif;\">Join series and industry on industry_code</span>"
            ],
            "metadata": {
                "azdata_cell_guid": "78ac8ba4-2a6a-426f-af30-6b56d9d09054"
            },
            "attachments": {}
        },
        {
            "cell_type": "code",
            "source": [
                "select top 5*\r\n",
                "from LaborStatisticsDB.dbo.series s\r\n",
                "join LaborStatisticsDB.dbo.industry i on i.industry_code=s.industry_code"
            ],
            "metadata": {
                "azdata_cell_guid": "ac022766-e280-4d95-8362-1f2b18773662",
                "language": "sql"
            },
            "outputs": [
                {
                    "output_type": "display_data",
                    "data": {
                        "text/html": "(5 rows affected)"
                    },
                    "metadata": {}
                },
                {
                    "output_type": "display_data",
                    "data": {
                        "text/html": "Total execution time: 00:00:00.111"
                    },
                    "metadata": {}
                },
                {
                    "output_type": "execute_result",
                    "metadata": {},
                    "execution_count": 36,
                    "data": {
                        "application/vnd.dataresource+json": {
                            "schema": {
                                "fields": [
                                    {
                                        "name": "series_id"
                                    },
                                    {
                                        "name": "supersector_code"
                                    },
                                    {
                                        "name": "industry_code"
                                    },
                                    {
                                        "name": "data_type_code"
                                    },
                                    {
                                        "name": "seasonal"
                                    },
                                    {
                                        "name": "series_title"
                                    },
                                    {
                                        "name": "id"
                                    },
                                    {
                                        "name": "industry_code"
                                    },
                                    {
                                        "name": "naics_code"
                                    },
                                    {
                                        "name": "publishing_status"
                                    },
                                    {
                                        "name": "industry_name"
                                    },
                                    {
                                        "name": "display_level"
                                    },
                                    {
                                        "name": "selectable"
                                    },
                                    {
                                        "name": "sort_sequence"
                                    }
                                ]
                            },
                            "data": [
                                {
                                    "series_id": "CES0000000001",
                                    "supersector_code": "0",
                                    "industry_code": "0",
                                    "data_type_code": "1",
                                    "seasonal": "S",
                                    "series_title": "All employees",
                                    "id": "0",
                                    "naics_code": "-",
                                    "publishing_status": "B",
                                    "industry_name": "Total nonfarm",
                                    "display_level": "0",
                                    "selectable": "T",
                                    "sort_sequence": "1"
                                },
                                {
                                    "series_id": "CES0000000010",
                                    "supersector_code": "0",
                                    "industry_code": "0",
                                    "data_type_code": "10",
                                    "seasonal": "S",
                                    "series_title": "Women employees",
                                    "id": "0",
                                    "naics_code": "-",
                                    "publishing_status": "B",
                                    "industry_name": "Total nonfarm",
                                    "display_level": "0",
                                    "selectable": "T",
                                    "sort_sequence": "1"
                                },
                                {
                                    "series_id": "CES0000000025",
                                    "supersector_code": "0",
                                    "industry_code": "0",
                                    "data_type_code": "25",
                                    "seasonal": "S",
                                    "series_title": "All employees",
                                    "id": "0",
                                    "naics_code": "-",
                                    "publishing_status": "B",
                                    "industry_name": "Total nonfarm",
                                    "display_level": "0",
                                    "selectable": "T",
                                    "sort_sequence": "1"
                                },
                                {
                                    "series_id": "CES0000000026",
                                    "supersector_code": "0",
                                    "industry_code": "0",
                                    "data_type_code": "26",
                                    "seasonal": "S",
                                    "series_title": "All employees",
                                    "id": "0",
                                    "naics_code": "-",
                                    "publishing_status": "B",
                                    "industry_name": "Total nonfarm",
                                    "display_level": "0",
                                    "selectable": "T",
                                    "sort_sequence": "1"
                                },
                                {
                                    "series_id": "CES0500000001",
                                    "supersector_code": "5",
                                    "industry_code": "5000000",
                                    "data_type_code": "1",
                                    "seasonal": "S",
                                    "series_title": "All employees",
                                    "id": "1",
                                    "naics_code": "-",
                                    "publishing_status": "A",
                                    "industry_name": "Total private",
                                    "display_level": "1",
                                    "selectable": "T",
                                    "sort_sequence": "2"
                                }
                            ]
                        },
                        "text/html": [
                            "<table>",
                            "<tr><th>series_id</th><th>supersector_code</th><th>industry_code</th><th>data_type_code</th><th>seasonal</th><th>series_title</th><th>id</th><th>industry_code</th><th>naics_code</th><th>publishing_status</th><th>industry_name</th><th>display_level</th><th>selectable</th><th>sort_sequence</th></tr>",
                            "<tr><td>CES0000000001</td><td>0</td><td>00000000</td><td>1</td><td>S</td><td>All employees</td><td>0</td><td>0</td><td>-</td><td>B</td><td>Total nonfarm</td><td>0</td><td>T</td><td>1</td></tr>",
                            "<tr><td>CES0000000010</td><td>0</td><td>00000000</td><td>10</td><td>S</td><td>Women employees</td><td>0</td><td>0</td><td>-</td><td>B</td><td>Total nonfarm</td><td>0</td><td>T</td><td>1</td></tr>",
                            "<tr><td>CES0000000025</td><td>0</td><td>00000000</td><td>25</td><td>S</td><td>All employees</td><td>0</td><td>0</td><td>-</td><td>B</td><td>Total nonfarm</td><td>0</td><td>T</td><td>1</td></tr>",
                            "<tr><td>CES0000000026</td><td>0</td><td>00000000</td><td>26</td><td>S</td><td>All employees</td><td>0</td><td>0</td><td>-</td><td>B</td><td>Total nonfarm</td><td>0</td><td>T</td><td>1</td></tr>",
                            "<tr><td>CES0500000001</td><td>5</td><td>05000000</td><td>1</td><td>S</td><td>All employees</td><td>1</td><td>5000000</td><td>-</td><td>A</td><td>Total private</td><td>1</td><td>T</td><td>2</td></tr>",
                            "</table>"
                        ]
                    }
                }
            ],
            "execution_count": 36
        },
        {
            "cell_type": "markdown",
            "source": [
                "## <span style=\"font-size: 12pt; font-family: Montserrat, sans-serif; color: rgb(53, 74, 95); background-color: rgb(255, 255, 255); font-weight: 700; font-variant-numeric: normal; font-variant-east-asian: normal; vertical-align: baseline; white-space: pre-wrap;\">Aggregate Your Friends and Code some SQL</span>\n",
                "\n",
                "<span style=\"font-size: 10pt; font-family: Arvo, serif; color: rgb(102, 102, 102); background-color: rgb(255, 255, 255); font-variant-numeric: normal; font-variant-east-asian: normal; vertical-align: baseline; white-space: pre-wrap;\">Put together the following:</span>\n",
                "\n",
                "1. <span style=\"background-color: rgb(255, 255, 255); font-size: 10pt; white-space: pre-wrap; color: rgb(102, 102, 102); font-family: Arvo, serif;\">How many employees were reported in 2016 in all industries? Round to the nearest whole number.&nbsp; No chopping people into little bits, please.</span>"
            ],
            "metadata": {
                "azdata_cell_guid": "f4290cc1-f824-4586-8850-59d926bf4460"
            },
            "attachments": {}
        },
        {
            "cell_type": "code",
            "source": [
                "select count (distinct series_id) as num_employees\r\n",
                "from LaborStatisticsDB.dbo.annual_2016"
            ],
            "metadata": {
                "azdata_cell_guid": "25099068-a629-4eb5-afca-ed3748c40605",
                "language": "sql"
            },
            "outputs": [
                {
                    "output_type": "display_data",
                    "data": {
                        "text/html": "(1 row affected)"
                    },
                    "metadata": {}
                },
                {
                    "output_type": "display_data",
                    "data": {
                        "text/html": "Total execution time: 00:00:00.116"
                    },
                    "metadata": {}
                },
                {
                    "output_type": "execute_result",
                    "execution_count": 36,
                    "data": {
                        "application/vnd.dataresource+json": {
                            "schema": {
                                "fields": [
                                    {
                                        "name": "num_employees"
                                    }
                                ]
                            },
                            "data": [
                                {
                                    "num_employees": "13348"
                                }
                            ]
                        },
                        "text/html": "<table><tr><th>num_employees</th></tr><tr><td>13348</td></tr></table>"
                    },
                    "metadata": {}
                }
            ],
            "execution_count": 36
        },
        {
            "cell_type": "markdown",
            "source": [
                "2. <span style=\"background-color: rgb(255, 255, 255); font-size: 10pt; white-space: pre-wrap; color: rgb(102, 102, 102); font-family: Arvo, serif;\">How many women employees were reported in 2016 in all industries? Round to the nearest whole number.&nbsp;</span>"
            ],
            "metadata": {
                "azdata_cell_guid": "6358fab4-b933-4646-bef1-4be66dcd4317"
            },
            "attachments": {}
        },
        {
            "cell_type": "code",
            "source": [
                "select count(distinct a.series_id) as num_women\r\n",
                "from LaborStatisticsDB.dbo.annual_2016 a\r\n",
                "left join laborstatisticsdb.dbo.series s on a.series_id=s.series_id\r\n",
                "left join LaborStatisticsDB.dbo.industry i on i.industry_code=s.industry_code\r\n",
                "join LaborStatisticsDB.dbo.datatype d on s.data_type_code=d.data_type_code\r\n",
                "\r\n",
                "where d.data_type_code=10"
            ],
            "metadata": {
                "azdata_cell_guid": "7bb0bfb7-b9e3-4672-b354-7ca705bb0c3b",
                "language": "sql"
            },
            "outputs": [
                {
                    "output_type": "display_data",
                    "data": {
                        "text/html": "(1 row affected)"
                    },
                    "metadata": {}
                },
                {
                    "output_type": "display_data",
                    "data": {
                        "text/html": "Total execution time: 00:00:00.194"
                    },
                    "metadata": {}
                },
                {
                    "output_type": "execute_result",
                    "execution_count": 16,
                    "data": {
                        "application/vnd.dataresource+json": {
                            "schema": {
                                "fields": [
                                    {
                                        "name": "num_women"
                                    }
                                ]
                            },
                            "data": [
                                {
                                    "num_women": "686"
                                }
                            ]
                        },
                        "text/html": "<table><tr><th>num_women</th></tr><tr><td>686</td></tr></table>"
                    },
                    "metadata": {}
                }
            ],
            "execution_count": 16
        },
        {
            "cell_type": "markdown",
            "source": [
                "3. <span style=\"background-color: rgb(255, 255, 255); font-size: 10pt; white-space: pre-wrap; color: rgb(102, 102, 102); font-family: Arvo, serif;\">How many production/nonsupervisory employees were reported in 2016? Round to the nearest whole number.&nbsp;</span>"
            ],
            "metadata": {
                "azdata_cell_guid": "246ea683-2075-4337-878d-fbfdd49b2dd7"
            },
            "attachments": {}
        },
        {
            "cell_type": "code",
            "source": [
                "select count (distinct a.series_id) as num_prod_nonsup\r\n",
                "from LaborStatisticsDB.dbo.annual_2016 a\r\n",
                "left join laborstatisticsdb.dbo.series s on a.series_id=s.series_id\r\n",
                "left join LaborStatisticsDB.dbo.industry i on i.industry_code=s.industry_code\r\n",
                "join LaborStatisticsDB.dbo.datatype d on s.data_type_code=d.data_type_code\r\n",
                "\r\n",
                "where lower(data_type_text)= 'production and nonsupervisory employees'"
            ],
            "metadata": {
                "azdata_cell_guid": "110f2591-069b-4bbe-87c7-2bcf76c3d36f",
                "language": "sql",
                "tags": []
            },
            "outputs": [
                {
                    "output_type": "display_data",
                    "data": {
                        "text/html": "(1 row affected)"
                    },
                    "metadata": {}
                },
                {
                    "output_type": "display_data",
                    "data": {
                        "text/html": "Total execution time: 00:00:00.116"
                    },
                    "metadata": {}
                },
                {
                    "output_type": "execute_result",
                    "execution_count": 18,
                    "data": {
                        "application/vnd.dataresource+json": {
                            "schema": {
                                "fields": [
                                    {
                                        "name": "num_prod_nonsup"
                                    }
                                ]
                            },
                            "data": [
                                {
                                    "num_prod_nonsup": "551"
                                }
                            ]
                        },
                        "text/html": "<table><tr><th>num_prod_nonsup</th></tr><tr><td>551</td></tr></table>"
                    },
                    "metadata": {}
                }
            ],
            "execution_count": 18
        },
        {
            "cell_type": "markdown",
            "source": [
                "4. <span style=\"background-color: rgb(255, 255, 255); font-size: 10pt; white-space: pre-wrap; color: rgb(102, 102, 102); font-family: Arvo, serif;\">In January 2017, what is the average weekly hours worked by production and nonsupervisory employees across all industries?</span>"
            ],
            "metadata": {
                "azdata_cell_guid": "9caa7f57-e39d-4b7a-b705-25f8fe29d60b"
            },
            "attachments": {}
        },
        {
            "cell_type": "code",
            "source": [
                "select\r\n",
                "round(avg(value),2) as avg_weekly_hours\r\n",
                "from LaborStatisticsDB.dbo.january_2017 j\r\n",
                "left join laborstatisticsdb.dbo.series s on j.series_id=s.series_id\r\n",
                "left join LaborStatisticsDB.dbo.industry i on i.industry_code=s.industry_code\r\n",
                "join LaborStatisticsDB.dbo.datatype d on s.data_type_code=d.data_type_code\r\n",
                "\r\n",
                "where lower(data_type_text)='average weekly hours of production and nonsupervisory employees'"
            ],
            "metadata": {
                "azdata_cell_guid": "9f07fa8a-4217-439a-a9cd-831240d4bc9e",
                "language": "sql",
                "tags": []
            },
            "outputs": [
                {
                    "output_type": "display_data",
                    "data": {
                        "text/html": "(1 row affected)"
                    },
                    "metadata": {}
                },
                {
                    "output_type": "display_data",
                    "data": {
                        "text/html": "Total execution time: 00:00:00.153"
                    },
                    "metadata": {}
                },
                {
                    "output_type": "execute_result",
                    "metadata": {},
                    "execution_count": 6,
                    "data": {
                        "application/vnd.dataresource+json": {
                            "schema": {
                                "fields": [
                                    {
                                        "name": "avg_weekly_hours"
                                    }
                                ]
                            },
                            "data": [
                                {
                                    "avg_weekly_hours": "36.06"
                                }
                            ]
                        },
                        "text/html": [
                            "<table>",
                            "<tr><th>avg_weekly_hours</th></tr>",
                            "<tr><td>36.06</td></tr>",
                            "</table>"
                        ]
                    }
                }
            ],
            "execution_count": 6
        },
        {
            "cell_type": "markdown",
            "source": [
                "5. <span style=\"background-color: rgb(255, 255, 255); font-size: 10pt; white-space: pre-wrap; color: rgb(102, 102, 102); font-family: Arvo, serif;\">What is the total weekly payroll for production and nonsupervisory employees across all industries in January 2017? Round to the nearest penny, please.</span>"
            ],
            "metadata": {
                "azdata_cell_guid": "9c48ff2e-a6eb-4f02-8df2-988e219fbc00"
            },
            "attachments": {}
        },
        {
            "cell_type": "code",
            "source": [
                "select \r\n",
                "SUM(value) as sum_payroll\r\n",
                "from LaborStatisticsDB.dbo.january_2017 j\r\n",
                "left join laborstatisticsdb.dbo.series s on j.series_id=s.series_id\r\n",
                "left join LaborStatisticsDB.dbo.industry i on i.industry_code=s.industry_code\r\n",
                "join LaborStatisticsDB.dbo.datatype d on s.data_type_code=d.data_type_code\r\n",
                "\r\n",
                "where lower(data_type_text)='aggregate weekly payrolls of production and nonsupervisory employees'\r\n",
                "\r\n",
                ""
            ],
            "metadata": {
                "azdata_cell_guid": "c565641b-f1fa-4dbb-9320-24adfda97ca5",
                "language": "sql"
            },
            "outputs": [
                {
                    "output_type": "display_data",
                    "data": {
                        "text/html": "(1 row affected)"
                    },
                    "metadata": {}
                },
                {
                    "output_type": "display_data",
                    "data": {
                        "text/html": "Total execution time: 00:00:00.443"
                    },
                    "metadata": {}
                },
                {
                    "output_type": "execute_result",
                    "execution_count": 35,
                    "data": {
                        "application/vnd.dataresource+json": {
                            "schema": {
                                "fields": [
                                    {
                                        "name": "sum_payroll"
                                    }
                                ]
                            },
                            "data": [
                                {
                                    "sum_payroll": "1838753220"
                                }
                            ]
                        },
                        "text/html": "<table><tr><th>sum_payroll</th></tr><tr><td>1838753220</td></tr></table>"
                    },
                    "metadata": {}
                }
            ],
            "execution_count": 35
        },
        {
            "cell_type": "markdown",
            "source": [
                "6. <span style=\"background-color: rgb(255, 255, 255); font-size: 10pt; white-space: pre-wrap; color: rgb(102, 102, 102); font-family: Arvo, serif;\">In January 2017, which industry was the average weekly hours worked by production and nonsupervisory employees the highest? Which industry was the lowest?</span>"
            ],
            "metadata": {
                "azdata_cell_guid": "862fd406-4fff-49bb-9d2b-232275a06405"
            },
            "attachments": {}
        },
        {
            "cell_type": "code",
            "source": [
                "--max\r\n",
                "select top 1\r\n",
                "i.industry_code,\r\n",
                "i.industry_name,\r\n",
                "avg(value) as max_avg_weekly_hours\r\n",
                "from LaborStatisticsDB.dbo.january_2017 j\r\n",
                "left join laborstatisticsdb.dbo.series s on j.series_id=s.series_id\r\n",
                "left join LaborStatisticsDB.dbo.industry i on i.industry_code=s.industry_code\r\n",
                "join LaborStatisticsDB.dbo.datatype d on s.data_type_code=d.data_type_code\r\n",
                "\r\n",
                "where lower(data_type_text)='average weekly hours of production and nonsupervisory employees'\r\n",
                "group by i.industry_code, i.industry_name\r\n",
                "order by 3 desc\r\n",
                "\r\n",
                "\r\n",
                ""
            ],
            "metadata": {
                "azdata_cell_guid": "01e11050-5f2f-4d22-92e0-2b3024b80a5f",
                "language": "sql"
            },
            "outputs": [
                {
                    "output_type": "display_data",
                    "data": {
                        "text/html": "(1 row affected)"
                    },
                    "metadata": {}
                },
                {
                    "output_type": "display_data",
                    "data": {
                        "text/html": "Total execution time: 00:00:00.117"
                    },
                    "metadata": {}
                },
                {
                    "output_type": "execute_result",
                    "execution_count": 52,
                    "data": {
                        "application/vnd.dataresource+json": {
                            "schema": {
                                "fields": [
                                    {
                                        "name": "industry_code"
                                    },
                                    {
                                        "name": "industry_name"
                                    },
                                    {
                                        "name": "max_avg_weekly_hours"
                                    }
                                ]
                            },
                            "data": [
                                {
                                    "industry_code": "31336350",
                                    "industry_name": "Motor vehicle power train components",
                                    "max_avg_weekly_hours": "49.6"
                                }
                            ]
                        },
                        "text/html": "<table><tr><th>industry_code</th><th>industry_name</th><th>max_avg_weekly_hours</th></tr><tr><td>31336350</td><td>Motor vehicle power train components</td><td>49.6</td></tr></table>"
                    },
                    "metadata": {}
                }
            ],
            "execution_count": 52
        },
        {
            "cell_type": "code",
            "source": [
                "--min\r\n",
                "select top 1\r\n",
                "i.industry_code,\r\n",
                "i.industry_name,\r\n",
                "avg(value) as min_avg_weekly_hours\r\n",
                "from LaborStatisticsDB.dbo.january_2017 j\r\n",
                "left join laborstatisticsdb.dbo.series s on j.series_id=s.series_id\r\n",
                "left join LaborStatisticsDB.dbo.industry i on i.industry_code=s.industry_code\r\n",
                "join LaborStatisticsDB.dbo.datatype d on s.data_type_code=d.data_type_code\r\n",
                "\r\n",
                "where lower(data_type_text)='average weekly hours of production and nonsupervisory employees'\r\n",
                "group by i.industry_code, i.industry_name\r\n",
                "order by 3"
            ],
            "metadata": {
                "language": "sql",
                "azdata_cell_guid": "4867adf5-1b71-49ca-82ed-5753c24ae608"
            },
            "outputs": [
                {
                    "output_type": "display_data",
                    "data": {
                        "text/html": "(1 row affected)"
                    },
                    "metadata": {}
                },
                {
                    "output_type": "display_data",
                    "data": {
                        "text/html": "Total execution time: 00:00:00.104"
                    },
                    "metadata": {}
                },
                {
                    "output_type": "execute_result",
                    "execution_count": 51,
                    "data": {
                        "application/vnd.dataresource+json": {
                            "schema": {
                                "fields": [
                                    {
                                        "name": "industry_code"
                                    },
                                    {
                                        "name": "industry_name"
                                    },
                                    {
                                        "name": "min_avg_weekly_hours"
                                    }
                                ]
                            },
                            "data": [
                                {
                                    "industry_code": "70713940",
                                    "industry_name": "Fitness and recreational sports centers",
                                    "min_avg_weekly_hours": "16.85"
                                }
                            ]
                        },
                        "text/html": "<table><tr><th>industry_code</th><th>industry_name</th><th>min_avg_weekly_hours</th></tr><tr><td>70713940</td><td>Fitness and recreational sports centers</td><td>16.85</td></tr></table>"
                    },
                    "metadata": {}
                }
            ],
            "execution_count": 51
        },
        {
            "cell_type": "code",
            "source": [
                "--combined average weekly hours\r\n",
                "with max_avg as (\r\n",
                "select top 1\r\n",
                "i.industry_code,\r\n",
                "i.industry_name,\r\n",
                "avg(value) as max_avg_weekly_hours\r\n",
                "from LaborStatisticsDB.dbo.january_2017 j\r\n",
                "left join laborstatisticsdb.dbo.series s on j.series_id=s.series_id\r\n",
                "left join LaborStatisticsDB.dbo.industry i on i.industry_code=s.industry_code\r\n",
                "join LaborStatisticsDB.dbo.datatype d on s.data_type_code=d.data_type_code\r\n",
                "\r\n",
                "where lower(data_type_text)='average weekly hours of production and nonsupervisory employees'\r\n",
                "group by i.industry_code, i.industry_name\r\n",
                "order by 3 desc\r\n",
                "),\r\n",
                "\r\n",
                "min_avg as (\r\n",
                "select top 1\r\n",
                "i.industry_code,\r\n",
                "i.industry_name,\r\n",
                "avg(value) as min_avg_weekly_hours\r\n",
                "from LaborStatisticsDB.dbo.january_2017 j\r\n",
                "left join laborstatisticsdb.dbo.series s on j.series_id=s.series_id\r\n",
                "left join LaborStatisticsDB.dbo.industry i on i.industry_code=s.industry_code\r\n",
                "join LaborStatisticsDB.dbo.datatype d on s.data_type_code=d.data_type_code\r\n",
                "\r\n",
                "where lower(data_type_text)='average weekly hours of production and nonsupervisory employees'\r\n",
                "group by i.industry_code, i.industry_name\r\n",
                "order by 3\r\n",
                ")\r\n",
                "\r\n",
                "SELECT\r\n",
                "max_avg.industry_code,\r\n",
                "max_avg.industry_name,\r\n",
                "max_avg.max_avg_weekly_hours as min_max_avg_weekly_hours\r\n",
                "from max_avg\r\n",
                "UNION\r\n",
                "select\r\n",
                "min_avg.industry_code,\r\n",
                "min_avg.industry_name,\r\n",
                "min_avg.min_avg_weekly_hours\r\n",
                "from min_avg"
            ],
            "metadata": {
                "language": "sql",
                "azdata_cell_guid": "687bd64a-b427-4375-94dc-22c088581d45"
            },
            "outputs": [
                {
                    "output_type": "display_data",
                    "data": {
                        "text/html": "(2 rows affected)"
                    },
                    "metadata": {}
                },
                {
                    "output_type": "display_data",
                    "data": {
                        "text/html": "Total execution time: 00:00:00.204"
                    },
                    "metadata": {}
                },
                {
                    "output_type": "execute_result",
                    "metadata": {},
                    "execution_count": 4,
                    "data": {
                        "application/vnd.dataresource+json": {
                            "schema": {
                                "fields": [
                                    {
                                        "name": "industry_code"
                                    },
                                    {
                                        "name": "industry_name"
                                    },
                                    {
                                        "name": "min_max_avg_weekly_hours"
                                    }
                                ]
                            },
                            "data": [
                                {
                                    "industry_code": "31336350",
                                    "industry_name": "Motor vehicle power train components",
                                    "min_max_avg_weekly_hours": "49.6"
                                },
                                {
                                    "industry_code": "70713940",
                                    "industry_name": "Fitness and recreational sports centers",
                                    "min_max_avg_weekly_hours": "16.85"
                                }
                            ]
                        },
                        "text/html": [
                            "<table>",
                            "<tr><th>industry_code</th><th>industry_name</th><th>min_max_avg_weekly_hours</th></tr>",
                            "<tr><td>31336350</td><td>Motor vehicle power train components</td><td>49.6</td></tr>",
                            "<tr><td>70713940</td><td>Fitness and recreational sports centers</td><td>16.85</td></tr>",
                            "</table>"
                        ]
                    }
                }
            ],
            "execution_count": 4
        },
        {
            "cell_type": "markdown",
            "source": [
                "7. <span style=\"background-color: rgb(255, 255, 255); font-size: 10pt; white-space: pre-wrap; color: rgb(102, 102, 102); font-family: Arvo, serif;\">In January 2021, which industry was the total weekly payroll for production and nonsupervisory employees the highest? Which industry was the lowest?</span>"
            ],
            "metadata": {
                "azdata_cell_guid": "a53f4113-60c6-46d1-b9a3-34610c61d4f9"
            },
            "attachments": {}
        },
        {
            "cell_type": "code",
            "source": [
                "--max payroll\r\n",
                "select top 1\r\n",
                "i.industry_code,\r\n",
                "i.industry_name,\r\n",
                "SUM(value) as max_sum_payroll\r\n",
                "from LaborStatisticsDB.dbo.january_2017 j\r\n",
                "left join laborstatisticsdb.dbo.series s on j.series_id=s.series_id\r\n",
                "left join LaborStatisticsDB.dbo.industry i on i.industry_code=s.industry_code\r\n",
                "join LaborStatisticsDB.dbo.datatype d on s.data_type_code=d.data_type_code\r\n",
                "\r\n",
                "where lower(data_type_text)='aggregate weekly payrolls of production and nonsupervisory employees'\r\n",
                "\r\n",
                "group by i.industry_code, i.industry_name\r\n",
                "order by 3 desc"
            ],
            "metadata": {
                "azdata_cell_guid": "583695e6-7438-4e03-8970-1fe0c677a793",
                "language": "sql"
            },
            "outputs": [
                {
                    "output_type": "display_data",
                    "data": {
                        "text/html": "(1 row affected)"
                    },
                    "metadata": {}
                },
                {
                    "output_type": "display_data",
                    "data": {
                        "text/html": "Total execution time: 00:00:00.166"
                    },
                    "metadata": {}
                },
                {
                    "output_type": "execute_result",
                    "execution_count": 56,
                    "data": {
                        "application/vnd.dataresource+json": {
                            "schema": {
                                "fields": [
                                    {
                                        "name": "industry_code"
                                    },
                                    {
                                        "name": "industry_name"
                                    },
                                    {
                                        "name": "max_sum_payroll"
                                    }
                                ]
                            },
                            "data": [
                                {
                                    "industry_code": "5000000",
                                    "industry_name": "Total private",
                                    "max_sum_payroll": "295944946"
                                }
                            ]
                        },
                        "text/html": "<table><tr><th>industry_code</th><th>industry_name</th><th>max_sum_payroll</th></tr><tr><td>5000000</td><td>Total private</td><td>295944946</td></tr></table>"
                    },
                    "metadata": {}
                }
            ],
            "execution_count": 56
        },
        {
            "cell_type": "code",
            "source": [
                "--min payroll\r\n",
                "select top 1\r\n",
                "i.industry_code,\r\n",
                "i.industry_name,\r\n",
                "SUM(value) as min_sum_payroll\r\n",
                "from LaborStatisticsDB.dbo.january_2017 j\r\n",
                "left join laborstatisticsdb.dbo.series s on j.series_id=s.series_id\r\n",
                "left join LaborStatisticsDB.dbo.industry i on i.industry_code=s.industry_code\r\n",
                "join LaborStatisticsDB.dbo.datatype d on s.data_type_code=d.data_type_code\r\n",
                "\r\n",
                "where lower(data_type_text)='aggregate weekly payrolls of production and nonsupervisory employees'\r\n",
                "\r\n",
                "group by i.industry_code, i.industry_name\r\n",
                "order by 3"
            ],
            "metadata": {
                "language": "sql",
                "azdata_cell_guid": "13080a84-c0ac-406a-a7b1-3b6d10066d37"
            },
            "outputs": [
                {
                    "output_type": "display_data",
                    "data": {
                        "text/html": "(1 row affected)"
                    },
                    "metadata": {}
                },
                {
                    "output_type": "display_data",
                    "data": {
                        "text/html": "Total execution time: 00:00:00.171"
                    },
                    "metadata": {}
                },
                {
                    "output_type": "execute_result",
                    "execution_count": 58,
                    "data": {
                        "application/vnd.dataresource+json": {
                            "schema": {
                                "fields": [
                                    {
                                        "name": "industry_code"
                                    },
                                    {
                                        "name": "industry_name"
                                    },
                                    {
                                        "name": "min_sum_payroll"
                                    }
                                ]
                            },
                            "data": [
                                {
                                    "industry_code": "80812310",
                                    "industry_name": "Coin-operated laundries and drycleaners",
                                    "min_sum_payroll": "40448"
                                }
                            ]
                        },
                        "text/html": "<table><tr><th>industry_code</th><th>industry_name</th><th>min_sum_payroll</th></tr><tr><td>80812310</td><td>Coin-operated laundries and drycleaners</td><td>40448</td></tr></table>"
                    },
                    "metadata": {}
                }
            ],
            "execution_count": 58
        },
        {
            "cell_type": "code",
            "source": [
                "--combined max min payrolls\r\n",
                "with max_payroll as (\r\n",
                "select top 1\r\n",
                "i.industry_code,\r\n",
                "i.industry_name,\r\n",
                "SUM(value) as max_sum_payroll\r\n",
                "from LaborStatisticsDB.dbo.january_2017 j\r\n",
                "left join laborstatisticsdb.dbo.series s on j.series_id=s.series_id\r\n",
                "left join LaborStatisticsDB.dbo.industry i on i.industry_code=s.industry_code\r\n",
                "join LaborStatisticsDB.dbo.datatype d on s.data_type_code=d.data_type_code\r\n",
                "\r\n",
                "where lower(data_type_text)='aggregate weekly payrolls of production and nonsupervisory employees'\r\n",
                "\r\n",
                "group by i.industry_code, i.industry_name\r\n",
                "order by 3 desc\r\n",
                "),\r\n",
                "\r\n",
                "min_payroll as (\r\n",
                "select top 1\r\n",
                "i.industry_code,\r\n",
                "i.industry_name,\r\n",
                "SUM(value) as min_sum_payroll\r\n",
                "from LaborStatisticsDB.dbo.january_2017 j\r\n",
                "left join laborstatisticsdb.dbo.series s on j.series_id=s.series_id\r\n",
                "left join LaborStatisticsDB.dbo.industry i on i.industry_code=s.industry_code\r\n",
                "join LaborStatisticsDB.dbo.datatype d on s.data_type_code=d.data_type_code\r\n",
                "\r\n",
                "where lower(data_type_text)='aggregate weekly payrolls of production and nonsupervisory employees'\r\n",
                "\r\n",
                "group by i.industry_code, i.industry_name\r\n",
                "order by 3\r\n",
                ")\r\n",
                "\r\n",
                "select\r\n",
                "max_payroll.industry_code,\r\n",
                "max_payroll.industry_name,\r\n",
                "max_payroll.max_sum_payroll as max_min_payroll\r\n",
                "from max_payroll\r\n",
                "UNION\r\n",
                "SELECT\r\n",
                "min_payroll.industry_code,\r\n",
                "min_payroll.industry_name,\r\n",
                "min_payroll.min_sum_payroll\r\n",
                "from min_payroll"
            ],
            "metadata": {
                "azdata_cell_guid": "92b6084e-fc5e-4f46-80b7-adcc85da1510",
                "language": "sql",
                "tags": []
            },
            "outputs": [
                {
                    "output_type": "display_data",
                    "data": {
                        "text/html": "(2 rows affected)"
                    },
                    "metadata": {}
                },
                {
                    "output_type": "display_data",
                    "data": {
                        "text/html": "Total execution time: 00:00:00.658"
                    },
                    "metadata": {}
                },
                {
                    "output_type": "execute_result",
                    "metadata": {},
                    "execution_count": 22,
                    "data": {
                        "application/vnd.dataresource+json": {
                            "schema": {
                                "fields": [
                                    {
                                        "name": "industry_code"
                                    },
                                    {
                                        "name": "industry_name"
                                    },
                                    {
                                        "name": "max_min_payroll"
                                    }
                                ]
                            },
                            "data": [
                                {
                                    "industry_code": "5000000",
                                    "industry_name": "Total private",
                                    "max_min_payroll": "295944946"
                                },
                                {
                                    "industry_code": "80812310",
                                    "industry_name": "Coin-operated laundries and drycleaners",
                                    "max_min_payroll": "40448"
                                }
                            ]
                        },
                        "text/html": [
                            "<table>",
                            "<tr><th>industry_code</th><th>industry_name</th><th>max_min_payroll</th></tr>",
                            "<tr><td>5000000</td><td>Total private</td><td>295944946</td></tr>",
                            "<tr><td>80812310</td><td>Coin-operated laundries and drycleaners</td><td>40448</td></tr>",
                            "</table>"
                        ]
                    }
                }
            ],
            "execution_count": 22
        },
        {
            "cell_type": "markdown",
            "source": [
                "## <span style=\"font-size: 12pt; font-family: Montserrat, sans-serif; color: rgb(53, 74, 95); background-color: rgb(255, 255, 255); font-weight: 700; font-variant-numeric: normal; font-variant-east-asian: normal; vertical-align: baseline; white-space: pre-wrap;\">Subqueries, Unions, Derived Tables, Oh My!</span>\n",
                "\n",
                "1. <span style=\"background-color: rgb(255, 255, 255); font-size: 10pt; white-space: pre-wrap; color: rgb(102, 102, 102); font-family: Arvo, serif;\">Write a query that returns the series_id, industry_code, industry_name, and value from the january_2017 table but only if that value is greater than the average value for annual_2016 of data_type_code 82.</span>"
            ],
            "metadata": {
                "azdata_cell_guid": "e98ec195-5399-4718-83ef-54fb954662a5"
            },
            "attachments": {}
        },
        {
            "cell_type": "code",
            "source": [
                "select distinct\r\n",
                "j.series_id,\r\n",
                "i.industry_code,\r\n",
                "i.industry_name,\r\n",
                "j.value\r\n",
                "\r\n",
                "from LaborStatisticsDB.dbo.january_2017 j\r\n",
                "left join laborstatisticsdb.dbo.series s on j.series_id=s.series_id\r\n",
                "left join LaborStatisticsDB.dbo.industry i on i.industry_code=s.industry_code\r\n",
                "join LaborStatisticsDB.dbo.datatype d on s.data_type_code=d.data_type_code\r\n",
                "\r\n",
                "where j.value >\r\n",
                "    (select\r\n",
                "    round(avg(value),2) as a_avg\r\n",
                "    from LaborStatisticsDB.dbo.annual_2016 a\r\n",
                "    left join laborstatisticsdb.dbo.series s on a.series_id=s.series_id\r\n",
                "    left join LaborStatisticsDB.dbo.industry i on i.industry_code=s.industry_code\r\n",
                "    join LaborStatisticsDB.dbo.datatype d on s.data_type_code=d.data_type_code\r\n",
                "    where d.data_type_code=82)\r\n",
                "\r\n",
                "order by value desc\r\n",
                "\r\n",
                "\r\n",
                ""
            ],
            "metadata": {
                "azdata_cell_guid": "7c85f70b-528f-4cbd-bd8e-a6efab1c18df",
                "language": "sql"
            },
            "outputs": [
                {
                    "output_type": "display_data",
                    "data": {
                        "text/html": "(377 rows affected)"
                    },
                    "metadata": {}
                },
                {
                    "output_type": "display_data",
                    "data": {
                        "text/html": "Total execution time: 00:00:00.260"
                    },
                    "metadata": {}
                },
                {
                    "output_type": "execute_result",
                    "execution_count": 74,
                    "data": {
                        "application/vnd.dataresource+json": {
                            "schema": {
                                "fields": [
                                    {
                                        "name": "series_id"
                                    },
                                    {
                                        "name": "industry_code"
                                    },
                                    {
                                        "name": "industry_name"
                                    },
                                    {
                                        "name": "value"
                                    }
                                ]
                            },
                            "data": [
                                {
                                    "series_id": "CES0500000057",
                                    "industry_code": "5000000",
                                    "industry_name": "Total private",
                                    "value": "110301694"
                                },
                                {
                                    "series_id": "CEU0500000057",
                                    "industry_code": "5000000",
                                    "industry_name": "Total private",
                                    "value": "109731861"
                                },
                                {
                                    "series_id": "CEU0800000057",
                                    "industry_code": "8000000",
                                    "industry_name": "Private service-providing",
                                    "value": "88446140"
                                },
                                {
                                    "series_id": "CES0800000057",
                                    "industry_code": "8000000",
                                    "industry_name": "Private service-providing",
                                    "value": "88280865"
                                },
                                {
                                    "series_id": "CES0500000082",
                                    "industry_code": "5000000",
                                    "industry_name": "Total private",
                                    "value": "74498171"
                                },
                                {
                                    "series_id": "CEU0500000082",
                                    "industry_code": "5000000",
                                    "industry_name": "Total private",
                                    "value": "73474302"
                                },
                                {
                                    "series_id": "CES0800000082",
                                    "industry_code": "8000000",
                                    "industry_name": "Private service-providing",
                                    "value": "60914722"
                                },
                                {
                                    "series_id": "CEU0800000082",
                                    "industry_code": "8000000",
                                    "industry_name": "Private service-providing",
                                    "value": "60807771"
                                },
                                {
                                    "series_id": "CEU6000000057",
                                    "industry_code": "60000000",
                                    "industry_name": "Professional and business services",
                                    "value": "23230608"
                                },
                                {
                                    "series_id": "CES6000000057",
                                    "industry_code": "60000000",
                                    "industry_name": "Professional and business services",
                                    "value": "23113158"
                                },
                                {
                                    "series_id": "CES0600000057",
                                    "industry_code": "6000000",
                                    "industry_name": "Goods-producing",
                                    "value": "21779094"
                                },
                                {
                                    "series_id": "CES4000000057",
                                    "industry_code": "40000000",
                                    "industry_name": "Trade",
                                    "value": "21232093"
                                },
                                {
                                    "series_id": "CEU4000000057",
                                    "industry_code": "40000000",
                                    "industry_name": "Trade",
                                    "value": "21207198"
                                },
                                {
                                    "series_id": "CEU0600000057",
                                    "industry_code": "6000000",
                                    "industry_name": "Goods-producing",
                                    "value": "21113749"
                                },
                                {
                                    "series_id": "CEU6500000057",
                                    "industry_code": "65000000",
                                    "industry_name": "Education and health services",
                                    "value": "19616812"
                                },
                                {
                                    "series_id": "CES6500000057",
                                    "industry_code": "65000000",
                                    "industry_name": "Education and health services",
                                    "value": "19585920"
                                },
                                {
                                    "series_id": "CEU6562000057",
                                    "industry_code": "65620000",
                                    "industry_name": "Health care and social assistance",
                                    "value": "16893809"
                                },
                                {
                                    "series_id": "CES6562000057",
                                    "industry_code": "65620000",
                                    "industry_name": "Health care and social assistance",
                                    "value": "16718245"
                                },
                                {
                                    "series_id": "CES6000000082",
                                    "industry_code": "60000000",
                                    "industry_name": "Professional and business services",
                                    "value": "15251268"
                                },
                                {
                                    "series_id": "CEU6000000082",
                                    "industry_code": "60000000",
                                    "industry_name": "Professional and business services",
                                    "value": "15219807"
                                },
                                {
                                    "series_id": "CEU6562000157",
                                    "industry_code": "65620001",
                                    "industry_name": "NULL",
                                    "value": "15094574"
                                },
                                {
                                    "series_id": "CES6562000157",
                                    "industry_code": "65620001",
                                    "industry_name": "NULL",
                                    "value": "14957970"
                                },
                                {
                                    "series_id": "CES4000000082",
                                    "industry_code": "40000000",
                                    "industry_name": "Trade",
                                    "value": "14850661"
                                },
                                {
                                    "series_id": "CEU6500000082",
                                    "industry_code": "65000000",
                                    "industry_name": "Education and health services",
                                    "value": "14816074"
                                },
                                {
                                    "series_id": "CES6500000082",
                                    "industry_code": "65000000",
                                    "industry_name": "Education and health services",
                                    "value": "14765156"
                                },
                                {
                                    "series_id": "CEU4000000082",
                                    "industry_code": "40000000",
                                    "industry_name": "Trade",
                                    "value": "14732108"
                                },
                                {
                                    "series_id": "CEU6054000057",
                                    "industry_code": "60540000",
                                    "industry_name": "Professional and technical services",
                                    "value": "13718735"
                                },
                                {
                                    "series_id": "CES6054000057",
                                    "industry_code": "60540000",
                                    "industry_name": "Professional and technical services",
                                    "value": "13464691"
                                },
                                {
                                    "series_id": "CES0600000082",
                                    "industry_code": "6000000",
                                    "industry_name": "Goods-producing",
                                    "value": "13426820"
                                },
                                {
                                    "series_id": "CES3000000057",
                                    "industry_code": "30000000",
                                    "industry_name": "Manufacturing",
                                    "value": "13282613"
                                },
                                {
                                    "series_id": "CEU3000000057",
                                    "industry_code": "30000000",
                                    "industry_name": "Manufacturing",
                                    "value": "13241229"
                                },
                                {
                                    "series_id": "CEU6562000082",
                                    "industry_code": "65620000",
                                    "industry_name": "Health care and social assistance",
                                    "value": "12878462"
                                },
                                {
                                    "series_id": "CES6562000082",
                                    "industry_code": "65620000",
                                    "industry_name": "Health care and social assistance",
                                    "value": "12762526"
                                },
                                {
                                    "series_id": "CEU0600000082",
                                    "industry_code": "6000000",
                                    "industry_name": "Goods-producing",
                                    "value": "12711945"
                                },
                                {
                                    "series_id": "CEU6562000182",
                                    "industry_code": "65620001",
                                    "industry_name": "NULL",
                                    "value": "11537267"
                                },
                                {
                                    "series_id": "CES6562000182",
                                    "industry_code": "65620001",
                                    "industry_name": "NULL",
                                    "value": "11413008"
                                },
                                {
                                    "series_id": "CEU5500000057",
                                    "industry_code": "55000000",
                                    "industry_name": "Financial activities",
                                    "value": "10456034"
                                },
                                {
                                    "series_id": "CES5500000057",
                                    "industry_code": "55000000",
                                    "industry_name": "Financial activities",
                                    "value": "10213192"
                                },
                                {
                                    "series_id": "CEU6054000082",
                                    "industry_code": "60540000",
                                    "industry_name": "Professional and technical services",
                                    "value": "8976687"
                                },
                                {
                                    "series_id": "CES4200000057",
                                    "industry_code": "42000000",
                                    "industry_name": "Retail trade",
                                    "value": "8857570"
                                },
                                {
                                    "series_id": "CES6054000082",
                                    "industry_code": "60540000",
                                    "industry_name": "Professional and technical services",
                                    "value": "8821026"
                                },
                                {
                                    "series_id": "CES3100000057",
                                    "industry_code": "31000000",
                                    "industry_name": "Durable goods",
                                    "value": "8769944"
                                },
                                {
                                    "series_id": "CEU4200000057",
                                    "industry_code": "42000000",
                                    "industry_name": "Retail trade",
                                    "value": "8761040"
                                },
                                {
                                    "series_id": "CEU3100000057",
                                    "industry_code": "31000000",
                                    "industry_name": "Durable goods",
                                    "value": "8758974"
                                },
                                {
                                    "series_id": "CES2000000057",
                                    "industry_code": "20000000",
                                    "industry_name": "Construction",
                                    "value": "7555007"
                                },
                                {
                                    "series_id": "CES3000000082",
                                    "industry_code": "30000000",
                                    "industry_name": "Manufacturing",
                                    "value": "7491723"
                                },
                                {
                                    "series_id": "CEU3000000082",
                                    "industry_code": "30000000",
                                    "industry_name": "Manufacturing",
                                    "value": "7411960"
                                },
                                {
                                    "series_id": "CEU6562100057",
                                    "industry_code": "65621000",
                                    "industry_name": "Ambulatory health care services",
                                    "value": "7203262"
                                },
                                {
                                    "series_id": "CES6562100057",
                                    "industry_code": "65621000",
                                    "industry_name": "Ambulatory health care services",
                                    "value": "7193566"
                                },
                                {
                                    "series_id": "CEU4142000057",
                                    "industry_code": "41420000",
                                    "industry_name": "Wholesale trade",
                                    "value": "6930351"
                                },
                                {
                                    "series_id": "CEU2000000057",
                                    "industry_code": "20000000",
                                    "industry_name": "Construction",
                                    "value": "6925429"
                                },
                                {
                                    "series_id": "CES4142000057",
                                    "industry_code": "41420000",
                                    "industry_name": "Wholesale trade",
                                    "value": "6858602"
                                },
                                {
                                    "series_id": "CEU5500000082",
                                    "industry_code": "55000000",
                                    "industry_name": "Financial activities",
                                    "value": "6467426"
                                },
                                {
                                    "series_id": "CES5500000082",
                                    "industry_code": "55000000",
                                    "industry_name": "Financial activities",
                                    "value": "6328968"
                                },
                                {
                                    "series_id": "CES6056000057",
                                    "industry_code": "60560000",
                                    "industry_name": "Administrative and waste services",
                                    "value": "6272001"
                                },
                                {
                                    "series_id": "CES7000000057",
                                    "industry_code": "70000000",
                                    "industry_name": "Leisure and hospitality",
                                    "value": "6232054"
                                },
                                {
                                    "series_id": "CES4200000082",
                                    "industry_code": "42000000",
                                    "industry_name": "Retail trade",
                                    "value": "6123554"
                                },
                                {
                                    "series_id": "CEU4200000082",
                                    "industry_code": "42000000",
                                    "industry_name": "Retail trade",
                                    "value": "6060100"
                                },
                                {
                                    "series_id": "CEU6056000057",
                                    "industry_code": "60560000",
                                    "industry_name": "Administrative and waste services",
                                    "value": "6040399"
                                },
                                {
                                    "series_id": "CEU6562200057",
                                    "industry_code": "65622000",
                                    "industry_name": "Hospitals",
                                    "value": "5923747"
                                },
                                {
                                    "series_id": "CEU7000000057",
                                    "industry_code": "70000000",
                                    "industry_name": "Leisure and hospitality",
                                    "value": "5920672"
                                },
                                {
                                    "series_id": "CES6562200057",
                                    "industry_code": "65622000",
                                    "industry_name": "Hospitals",
                                    "value": "5842779"
                                },
                                {
                                    "series_id": "CES6056100057",
                                    "industry_code": "60561000",
                                    "industry_name": "Administrative and support services",
                                    "value": "5838373"
                                },
                                {
                                    "series_id": "CEU6056100057",
                                    "industry_code": "60561000",
                                    "industry_name": "Administrative and support services",
                                    "value": "5597836"
                                },
                                {
                                    "series_id": "CEU6562210057",
                                    "industry_code": "65622100",
                                    "industry_name": "General medical and surgical hospitals",
                                    "value": "5505844"
                                },
                                {
                                    "series_id": "CES6562210057",
                                    "industry_code": "65622100",
                                    "industry_name": "General medical and surgical hospitals",
                                    "value": "5428714"
                                },
                                {
                                    "series_id": "CES2000000082",
                                    "industry_code": "20000000",
                                    "industry_name": "Construction",
                                    "value": "5335274"
                                },
                                {
                                    "series_id": "CEU6562200082",
                                    "industry_code": "65622000",
                                    "industry_name": "Hospitals",
                                    "value": "5105336"
                                },
                                {
                                    "series_id": "CES7072000057",
                                    "industry_code": "70720000",
                                    "industry_name": "Accommodation and food services",
                                    "value": "5078737"
                                },
                                {
                                    "series_id": "CES6562200082",
                                    "industry_code": "65622000",
                                    "industry_name": "Hospitals",
                                    "value": "5048432"
                                },
                                {
                                    "series_id": "CEU6562100082",
                                    "industry_code": "65621000",
                                    "industry_name": "Ambulatory health care services",
                                    "value": "4907269"
                                },
                                {
                                    "series_id": "CES6056000082",
                                    "industry_code": "60560000",
                                    "industry_name": "Administrative and waste services",
                                    "value": "4886085"
                                },
                                {
                                    "series_id": "CES6562100082",
                                    "industry_code": "65621000",
                                    "industry_name": "Ambulatory health care services",
                                    "value": "4875906"
                                },
                                {
                                    "series_id": "CES3100000082",
                                    "industry_code": "31000000",
                                    "industry_name": "Durable goods",
                                    "value": "4859716"
                                },
                                {
                                    "series_id": "CEU7072000057",
                                    "industry_code": "70720000",
                                    "industry_name": "Accommodation and food services",
                                    "value": "4847577"
                                },
                                {
                                    "series_id": "CEU3100000082",
                                    "industry_code": "31000000",
                                    "industry_name": "Durable goods",
                                    "value": "4808368"
                                },
                                {
                                    "series_id": "CEU6562210082",
                                    "industry_code": "65622100",
                                    "industry_name": "General medical and surgical hospitals",
                                    "value": "4773547"
                                },
                                {
                                    "series_id": "CEU2000000082",
                                    "industry_code": "20000000",
                                    "industry_name": "Construction",
                                    "value": "4724156"
                                },
                                {
                                    "series_id": "CES6562210082",
                                    "industry_code": "65622100",
                                    "industry_name": "General medical and surgical hospitals",
                                    "value": "4716914"
                                },
                                {
                                    "series_id": "CEU6056000082",
                                    "industry_code": "60560000",
                                    "industry_name": "Administrative and waste services",
                                    "value": "4659531"
                                },
                                {
                                    "series_id": "CES2023800057",
                                    "industry_code": "20238000",
                                    "industry_name": "Specialty trade contractors",
                                    "value": "4595075"
                                },
                                {
                                    "series_id": "CES4300000057",
                                    "industry_code": "43000000",
                                    "industry_name": "Transportation and warehousing",
                                    "value": "4588906"
                                },
                                {
                                    "series_id": "CEU4300000057",
                                    "industry_code": "43000000",
                                    "industry_name": "Transportation and warehousing",
                                    "value": "4575913"
                                },
                                {
                                    "series_id": "CES6056100082",
                                    "industry_code": "60561000",
                                    "industry_name": "Administrative and support services",
                                    "value": "4565569"
                                },
                                {
                                    "series_id": "CES7000000082",
                                    "industry_code": "70000000",
                                    "industry_name": "Leisure and hospitality",
                                    "value": "4537173"
                                },
                                {
                                    "series_id": "CEU4142000082",
                                    "industry_code": "41420000",
                                    "industry_name": "Wholesale trade",
                                    "value": "4506110"
                                },
                                {
                                    "series_id": "CES3200000057",
                                    "industry_code": "32000000",
                                    "industry_name": "Nondurable goods",
                                    "value": "4496035"
                                },
                                {
                                    "series_id": "CES4142000082",
                                    "industry_code": "41420000",
                                    "industry_name": "Wholesale trade",
                                    "value": "4480134"
                                },
                                {
                                    "series_id": "CEU3200000057",
                                    "industry_code": "32000000",
                                    "industry_name": "Nondurable goods",
                                    "value": "4468396"
                                },
                                {
                                    "series_id": "CEU6056100082",
                                    "industry_code": "60561000",
                                    "industry_name": "Administrative and support services",
                                    "value": "4357866"
                                },
                                {
                                    "series_id": "CES8000000057",
                                    "industry_code": "80000000",
                                    "industry_name": "Other services",
                                    "value": "4263141"
                                },
                                {
                                    "series_id": "CEU8000000057",
                                    "industry_code": "80000000",
                                    "industry_name": "Other services",
                                    "value": "4254988"
                                },
                                {
                                    "series_id": "CES0500000056",
                                    "industry_code": "5000000",
                                    "industry_name": "Total private",
                                    "value": "4239112"
                                },
                                {
                                    "series_id": "CEU7000000082",
                                    "industry_code": "70000000",
                                    "industry_name": "Leisure and hospitality",
                                    "value": "4224098"
                                },
                                {
                                    "series_id": "CEU2023800057",
                                    "industry_code": "20238000",
                                    "industry_name": "Specialty trade contractors",
                                    "value": "4210973"
                                },
                                {
                                    "series_id": "CEU0500000056",
                                    "industry_code": "5000000",
                                    "industry_name": "Total private",
                                    "value": "4165978"
                                },
                                {
                                    "series_id": "CES7072200057",
                                    "industry_code": "70722000",
                                    "industry_name": "Food services and drinking places",
                                    "value": "4058595"
                                },
                                {
                                    "series_id": "CEU7072200057",
                                    "industry_code": "70722000",
                                    "industry_name": "Food services and drinking places",
                                    "value": "3877793"
                                },
                                {
                                    "series_id": "CEU5000000057",
                                    "industry_code": "50000000",
                                    "industry_name": "Information",
                                    "value": "3839933"
                                },
                                {
                                    "series_id": "CES7072000082",
                                    "industry_code": "70720000",
                                    "industry_name": "Accommodation and food services",
                                    "value": "3802356"
                                },
                                {
                                    "series_id": "CES5000000057",
                                    "industry_code": "50000000",
                                    "industry_name": "Information",
                                    "value": "3751205"
                                },
                                {
                                    "series_id": "CEU6054150057",
                                    "industry_code": "60541500",
                                    "industry_name": "Computer systems design and related services",
                                    "value": "3676138"
                                },
                                {
                                    "series_id": "CES7072250057",
                                    "industry_code": "70722500",
                                    "industry_name": "Restaurants and other eating places",
                                    "value": "3617277"
                                },
                                {
                                    "series_id": "CES6054150057",
                                    "industry_code": "60541500",
                                    "industry_name": "Computer systems design and related services",
                                    "value": "3595409"
                                },
                                {
                                    "series_id": "CEU7072000082",
                                    "industry_code": "70720000",
                                    "industry_name": "Accommodation and food services",
                                    "value": "3572648"
                                },
                                {
                                    "series_id": "CES4300000082",
                                    "industry_code": "43000000",
                                    "industry_name": "Transportation and warehousing",
                                    "value": "3538683"
                                },
                                {
                                    "series_id": "CEU5552400057",
                                    "industry_code": "55524000",
                                    "industry_name": "Insurance carriers and related activities",
                                    "value": "3532152"
                                },
                                {
                                    "series_id": "CES6562110057",
                                    "industry_code": "65621100",
                                    "industry_name": "Offices of physicians",
                                    "value": "3521877"
                                },
                                {
                                    "series_id": "CEU6562110057",
                                    "industry_code": "65621100",
                                    "industry_name": "Offices of physicians",
                                    "value": "3513888"
                                },
                                {
                                    "series_id": "CEU4300000082",
                                    "industry_code": "43000000",
                                    "industry_name": "Transportation and warehousing",
                                    "value": "3495553"
                                },
                                {
                                    "series_id": "CEU4142300057",
                                    "industry_code": "41423000",
                                    "industry_name": "Durable goods",
                                    "value": "3494945"
                                },
                                {
                                    "series_id": "CEU6055000057",
                                    "industry_code": "60550000",
                                    "industry_name": "Management of companies and enterprises",
                                    "value": "3491614"
                                },
                                {
                                    "series_id": "CES6562111157",
                                    "industry_code": "65621111",
                                    "industry_name": "Offices of physicians",
                                    "value": "3472162"
                                },
                                {
                                    "series_id": "CEU7072250057",
                                    "industry_code": "70722500",
                                    "industry_name": "Restaurants and other eating places",
                                    "value": "3471778"
                                },
                                {
                                    "series_id": "CEU6562111157",
                                    "industry_code": "65621111",
                                    "industry_name": "Offices of physicians",
                                    "value": "3465699"
                                },
                                {
                                    "series_id": "CES4142300057",
                                    "industry_code": "41423000",
                                    "industry_name": "Durable goods",
                                    "value": "3449034"
                                },
                                {
                                    "series_id": "CES0800000056",
                                    "industry_code": "8000000",
                                    "industry_name": "Private service-providing",
                                    "value": "3432382"
                                },
                                {
                                    "series_id": "CES6055000057",
                                    "industry_code": "60550000",
                                    "industry_name": "Management of companies and enterprises",
                                    "value": "3428612"
                                },
                                {
                                    "series_id": "CES2023800082",
                                    "industry_code": "20238000",
                                    "industry_name": "Specialty trade contractors",
                                    "value": "3421902"
                                },
                                {
                                    "series_id": "CES0500000081",
                                    "industry_code": "5000000",
                                    "industry_name": "Total private",
                                    "value": "3412651"
                                },
                                {
                                    "series_id": "CES5552400057",
                                    "industry_code": "55524000",
                                    "industry_name": "Insurance carriers and related activities",
                                    "value": "3411895"
                                },
                                {
                                    "series_id": "CEU0800000056",
                                    "industry_code": "8000000",
                                    "industry_name": "Private service-providing",
                                    "value": "3388741"
                                },
                                {
                                    "series_id": "CEU0500000081",
                                    "industry_code": "5000000",
                                    "industry_name": "Total private",
                                    "value": "3335193"
                                },
                                {
                                    "series_id": "CEU6055111457",
                                    "industry_code": "60551114",
                                    "industry_name": "Managing offices",
                                    "value": "3329401"
                                },
                                {
                                    "series_id": "CES6055111457",
                                    "industry_code": "60551114",
                                    "industry_name": "Managing offices",
                                    "value": "3270688"
                                },
                                {
                                    "series_id": "CEU5552200057",
                                    "industry_code": "55522000",
                                    "industry_name": "Credit intermediation and related activities",
                                    "value": "3149170"
                                },
                                {
                                    "series_id": "CES7072200082",
                                    "industry_code": "70722000",
                                    "industry_name": "Food services and drinking places",
                                    "value": "3085429"
                                },
                                {
                                    "series_id": "CES5552200057",
                                    "industry_code": "55522000",
                                    "industry_name": "Credit intermediation and related activities",
                                    "value": "3075310"
                                },
                                {
                                    "series_id": "CEU2023800082",
                                    "industry_code": "20238000",
                                    "industry_name": "Specialty trade contractors",
                                    "value": "3062211"
                                },
                                {
                                    "series_id": "CEU7072200082",
                                    "industry_code": "70722000",
                                    "industry_name": "Food services and drinking places",
                                    "value": "2913295"
                                },
                                {
                                    "series_id": "CES8000000082",
                                    "industry_code": "80000000",
                                    "industry_name": "Other services",
                                    "value": "2875314"
                                },
                                {
                                    "series_id": "CEU8000000082",
                                    "industry_code": "80000000",
                                    "industry_name": "Other services",
                                    "value": "2836698"
                                },
                                {
                                    "series_id": "CES0800000081",
                                    "industry_code": "8000000",
                                    "industry_name": "Private service-providing",
                                    "value": "2818821"
                                },
                                {
                                    "series_id": "CEU0800000081",
                                    "industry_code": "8000000",
                                    "industry_name": "Private service-providing",
                                    "value": "2777879"
                                },
                                {
                                    "series_id": "CES7072250082",
                                    "industry_code": "70722500",
                                    "industry_name": "Restaurants and other eating places",
                                    "value": "2768855"
                                },
                                {
                                    "series_id": "CEU6054150082",
                                    "industry_code": "60541500",
                                    "industry_name": "Computer systems design and related services",
                                    "value": "2725031"
                                },
                                {
                                    "series_id": "CES6054150082",
                                    "industry_code": "60541500",
                                    "industry_name": "Computer systems design and related services",
                                    "value": "2666568"
                                },
                                {
                                    "series_id": "CES3200000082",
                                    "industry_code": "32000000",
                                    "industry_name": "Nondurable goods",
                                    "value": "2633628"
                                },
                                {
                                    "series_id": "CEU7072250082",
                                    "industry_code": "70722500",
                                    "industry_name": "Restaurants and other eating places",
                                    "value": "2617225"
                                },
                                {
                                    "series_id": "CEU3200000082",
                                    "industry_code": "32000000",
                                    "industry_name": "Nondurable goods",
                                    "value": "2605069"
                                },
                                {
                                    "series_id": "CEU8081300057",
                                    "industry_code": "80813000",
                                    "industry_name": "Membership associations and organizations",
                                    "value": "2507238"
                                },
                                {
                                    "series_id": "CES8081300057",
                                    "industry_code": "80813000",
                                    "industry_name": "Membership associations and organizations",
                                    "value": "2494120"
                                },
                                {
                                    "series_id": "CEU5000000082",
                                    "industry_code": "50000000",
                                    "industry_name": "Information",
                                    "value": "2434992"
                                },
                                {
                                    "series_id": "CES5000000082",
                                    "industry_code": "50000000",
                                    "industry_name": "Information",
                                    "value": "2416443"
                                },
                                {
                                    "series_id": "CEU5552400082",
                                    "industry_code": "55524000",
                                    "industry_name": "Insurance carriers and related activities",
                                    "value": "2408490"
                                },
                                {
                                    "series_id": "CES5552400082",
                                    "industry_code": "55524000",
                                    "industry_name": "Insurance carriers and related activities",
                                    "value": "2347328"
                                },
                                {
                                    "series_id": "CES2023820057",
                                    "industry_code": "20238200",
                                    "industry_name": "Building equipment contractors",
                                    "value": "2326342"
                                },
                                {
                                    "series_id": "CEU4142300082",
                                    "industry_code": "41423000",
                                    "industry_name": "Durable goods",
                                    "value": "2283094"
                                },
                                {
                                    "series_id": "CES4142300082",
                                    "industry_code": "41423000",
                                    "industry_name": "Durable goods",
                                    "value": "2261006"
                                },
                                {
                                    "series_id": "CES6056130057",
                                    "industry_code": "60561300",
                                    "industry_name": "Employment services",
                                    "value": "2255347"
                                },
                                {
                                    "series_id": "CEU2023820057",
                                    "industry_code": "20238200",
                                    "industry_name": "Building equipment contractors",
                                    "value": "2238858"
                                },
                                {
                                    "series_id": "CEU5552410057",
                                    "industry_code": "55524100",
                                    "industry_name": "Insurance carriers",
                                    "value": "2215577"
                                },
                                {
                                    "series_id": "CEU6056130057",
                                    "industry_code": "60561300",
                                    "industry_name": "Employment services",
                                    "value": "2167910"
                                },
                                {
                                    "series_id": "CES6054130057",
                                    "industry_code": "60541300",
                                    "industry_name": "Architectural and engineering services",
                                    "value": "2152162"
                                },
                                {
                                    "series_id": "CEU6562110082",
                                    "industry_code": "65621100",
                                    "industry_name": "Offices of physicians",
                                    "value": "2149121"
                                },
                                {
                                    "series_id": "CEU6054130057",
                                    "industry_code": "60541300",
                                    "industry_name": "Architectural and engineering services",
                                    "value": "2146385"
                                },
                                {
                                    "series_id": "CES6562110082",
                                    "industry_code": "65621100",
                                    "industry_name": "Offices of physicians",
                                    "value": "2141331"
                                },
                                {
                                    "series_id": "CEU3133600057",
                                    "industry_code": "31336000",
                                    "industry_name": "Transportation equipment",
                                    "value": "2137791"
                                },
                                {
                                    "series_id": "CES3133600057",
                                    "industry_code": "31336000",
                                    "industry_name": "Transportation equipment",
                                    "value": "2130760"
                                },
                                {
                                    "series_id": "CES5552410057",
                                    "industry_code": "55524100",
                                    "industry_name": "Insurance carriers",
                                    "value": "2130379"
                                },
                                {
                                    "series_id": "CEU6054160057",
                                    "industry_code": "60541600",
                                    "industry_name": "Management and technical consulting services",
                                    "value": "2123095"
                                },
                                {
                                    "series_id": "CEU6562111182",
                                    "industry_code": "65621111",
                                    "industry_name": "Offices of physicians",
                                    "value": "2121845"
                                },
                                {
                                    "series_id": "CES6562111182",
                                    "industry_code": "65621111",
                                    "industry_name": "Offices of physicians",
                                    "value": "2113086"
                                },
                                {
                                    "series_id": "CES7072251157",
                                    "industry_code": "70722511",
                                    "industry_name": "Full-service restaurants",
                                    "value": "2105534"
                                },
                                {
                                    "series_id": "CES6054160057",
                                    "industry_code": "60541600",
                                    "industry_name": "Management and technical consulting services",
                                    "value": "2103707"
                                },
                                {
                                    "series_id": "CEU4142400057",
                                    "industry_code": "41424000",
                                    "industry_name": "Nondurable goods",
                                    "value": "2044132"
                                },
                                {
                                    "series_id": "CES4142400057",
                                    "industry_code": "41424000",
                                    "industry_name": "Nondurable goods",
                                    "value": "2042100"
                                },
                                {
                                    "series_id": "CES6056130082",
                                    "industry_code": "60561300",
                                    "industry_name": "Employment services",
                                    "value": "2013846"
                                },
                                {
                                    "series_id": "CEU7072251157",
                                    "industry_code": "70722511",
                                    "industry_name": "Full-service restaurants",
                                    "value": "2009900"
                                },
                                {
                                    "series_id": "CEU6562300057",
                                    "industry_code": "65623000",
                                    "industry_name": "Nursing and residential care facilities",
                                    "value": "1981669"
                                },
                                {
                                    "series_id": "CEU5552210057",
                                    "industry_code": "55522100",
                                    "industry_name": "Depository credit intermediation",
                                    "value": "1979117"
                                },
                                {
                                    "series_id": "CES6562300057",
                                    "industry_code": "65623000",
                                    "industry_name": "Nursing and residential care facilities",
                                    "value": "1941241"
                                },
                                {
                                    "series_id": "CEU6056130082",
                                    "industry_code": "60561300",
                                    "industry_name": "Employment services",
                                    "value": "1938059"
                                },
                                {
                                    "series_id": "CES5552210057",
                                    "industry_code": "55522100",
                                    "industry_name": "Depository credit intermediation",
                                    "value": "1921539"
                                },
                                {
                                    "series_id": "CEU5552300057",
                                    "industry_code": "55523000",
                                    "industry_name": "NULL",
                                    "value": "1818312"
                                },
                                {
                                    "series_id": "CEU6562400057",
                                    "industry_code": "65624000",
                                    "industry_name": "Social assistance",
                                    "value": "1811418"
                                },
                                {
                                    "series_id": "CES6562400057",
                                    "industry_code": "65624000",
                                    "industry_name": "Social assistance",
                                    "value": "1787502"
                                },
                                {
                                    "series_id": "CEU5552200082",
                                    "industry_code": "55522000",
                                    "industry_name": "Credit intermediation and related activities",
                                    "value": "1767137"
                                },
                                {
                                    "series_id": "CES2023600057",
                                    "industry_code": "20236000",
                                    "industry_name": "Construction of buildings",
                                    "value": "1765016"
                                },
                                {
                                    "series_id": "CES5552300057",
                                    "industry_code": "55523000",
                                    "industry_name": "NULL",
                                    "value": "1756545"
                                },
                                {
                                    "series_id": "CEU6054161057",
                                    "industry_code": "60541610",
                                    "industry_name": "Management consulting services",
                                    "value": "1755386"
                                },
                                {
                                    "series_id": "CES4244100057",
                                    "industry_code": "42441000",
                                    "industry_name": "Motor vehicle and parts dealers",
                                    "value": "1740340"
                                },
                                {
                                    "series_id": "CEU6054151257",
                                    "industry_code": "60541512",
                                    "industry_name": "Computer systems design services",
                                    "value": "1738428"
                                },
                                {
                                    "series_id": "CEU4244100057",
                                    "industry_code": "42441000",
                                    "industry_name": "Motor vehicle and parts dealers",
                                    "value": "1724940"
                                },
                                {
                                    "series_id": "CES6056132057",
                                    "industry_code": "60561320",
                                    "industry_name": "Temporary help services",
                                    "value": "1723484"
                                },
                                {
                                    "series_id": "CEU6054110057",
                                    "industry_code": "60541100",
                                    "industry_name": "Legal services",
                                    "value": "1722541"
                                },
                                {
                                    "series_id": "CES5552200082",
                                    "industry_code": "55522000",
                                    "industry_name": "Credit intermediation and related activities",
                                    "value": "1717912"
                                },
                                {
                                    "series_id": "CES6054161057",
                                    "industry_code": "60541610",
                                    "industry_name": "Management consulting services",
                                    "value": "1711601"
                                },
                                {
                                    "series_id": "CES2023820082",
                                    "industry_code": "20238200",
                                    "industry_name": "Building equipment contractors",
                                    "value": "1696080"
                                },
                                {
                                    "series_id": "CES6054151257",
                                    "industry_code": "60541512",
                                    "industry_name": "Computer systems design services",
                                    "value": "1695613"
                                },
                                {
                                    "series_id": "CEU2023600057",
                                    "industry_code": "20236000",
                                    "industry_name": "Construction of buildings",
                                    "value": "1692237"
                                },
                                {
                                    "series_id": "CES6054110057",
                                    "industry_code": "60541100",
                                    "industry_name": "Legal services",
                                    "value": "1666281"
                                },
                                {
                                    "series_id": "CEU6056132057",
                                    "industry_code": "60561320",
                                    "industry_name": "Temporary help services",
                                    "value": "1650527"
                                },
                                {
                                    "series_id": "CEU6054111057",
                                    "industry_code": "60541110",
                                    "industry_name": "Offices of lawyers",
                                    "value": "1641024"
                                },
                                {
                                    "series_id": "CEU6054151157",
                                    "industry_code": "60541511",
                                    "industry_name": "Custom computer programming services",
                                    "value": "1639255"
                                },
                                {
                                    "series_id": "CES7072251182",
                                    "industry_code": "70722511",
                                    "industry_name": "Full-service restaurants",
                                    "value": "1626780"
                                },
                                {
                                    "series_id": "CEU2023820082",
                                    "industry_code": "20238200",
                                    "industry_name": "Building equipment contractors",
                                    "value": "1621266"
                                },
                                {
                                    "series_id": "CES8081300082",
                                    "industry_code": "80813000",
                                    "industry_name": "Membership associations and organizations",
                                    "value": "1599916"
                                },
                                {
                                    "series_id": "CES6056132082",
                                    "industry_code": "60561320",
                                    "industry_name": "Temporary help services",
                                    "value": "1598939"
                                },
                                {
                                    "series_id": "CES6054151157",
                                    "industry_code": "60541511",
                                    "industry_name": "Custom computer programming services",
                                    "value": "1596292"
                                },
                                {
                                    "series_id": "CEU8081300082",
                                    "industry_code": "80813000",
                                    "industry_name": "Membership associations and organizations",
                                    "value": "1594855"
                                },
                                {
                                    "series_id": "CES6054111057",
                                    "industry_code": "60541110",
                                    "industry_name": "Offices of lawyers",
                                    "value": "1588040"
                                },
                                {
                                    "series_id": "CEU6055000082",
                                    "industry_code": "60550000",
                                    "industry_name": "Management of companies and enterprises",
                                    "value": "1587677"
                                },
                                {
                                    "series_id": "CEU5552211057",
                                    "industry_code": "55522110",
                                    "industry_name": "Commercial banking",
                                    "value": "1575662"
                                },
                                {
                                    "series_id": "CES6055000082",
                                    "industry_code": "60550000",
                                    "industry_name": "Management of companies and enterprises",
                                    "value": "1566036"
                                },
                                {
                                    "series_id": "CEU6054134057",
                                    "industry_code": "60541340",
                                    "industry_name": "NULL",
                                    "value": "1537888"
                                },
                                {
                                    "series_id": "CES6054134057",
                                    "industry_code": "60541340",
                                    "industry_name": "NULL",
                                    "value": "1536969"
                                },
                                {
                                    "series_id": "CES5552211057",
                                    "industry_code": "55522110",
                                    "industry_name": "Commercial banking",
                                    "value": "1533413"
                                },
                                {
                                    "series_id": "CEU6056132082",
                                    "industry_code": "60561320",
                                    "industry_name": "Temporary help services",
                                    "value": "1530782"
                                },
                                {
                                    "series_id": "CEU7072251182",
                                    "industry_code": "70722511",
                                    "industry_name": "Full-service restaurants",
                                    "value": "1528888"
                                },
                                {
                                    "series_id": "CEU6562300082",
                                    "industry_code": "65623000",
                                    "industry_name": "Nursing and residential care facilities",
                                    "value": "1525889"
                                },
                                {
                                    "series_id": "CEU6055111482",
                                    "industry_code": "60551114",
                                    "industry_name": "Managing offices",
                                    "value": "1517287"
                                },
                                {
                                    "series_id": "CEU5552410082",
                                    "industry_code": "55524100",
                                    "industry_name": "Insurance carriers",
                                    "value": "1509979"
                                },
                                {
                                    "series_id": "CEU3133400057",
                                    "industry_code": "31334000",
                                    "industry_name": "Computer and electronic products",
                                    "value": "1499453"
                                },
                                {
                                    "series_id": "CES6055111482",
                                    "industry_code": "60551114",
                                    "industry_name": "Managing offices",
                                    "value": "1496334"
                                },
                                {
                                    "series_id": "CES3133400057",
                                    "industry_code": "31334000",
                                    "industry_name": "Computer and electronic products",
                                    "value": "1489440"
                                },
                                {
                                    "series_id": "CES6562300082",
                                    "industry_code": "65623000",
                                    "industry_name": "Nursing and residential care facilities",
                                    "value": "1489277"
                                },
                                {
                                    "series_id": "CES5552410082",
                                    "industry_code": "55524100",
                                    "industry_name": "Insurance carriers",
                                    "value": "1477799"
                                },
                                {
                                    "series_id": "CES6054130082",
                                    "industry_code": "60541300",
                                    "industry_name": "Architectural and engineering services",
                                    "value": "1439445"
                                },
                                {
                                    "series_id": "CES4245200057",
                                    "industry_code": "42452000",
                                    "industry_name": "General merchandise stores",
                                    "value": "1437264"
                                },
                                {
                                    "series_id": "CEU6054130082",
                                    "industry_code": "60541300",
                                    "industry_name": "Architectural and engineering services",
                                    "value": "1422967"
                                },
                                {
                                    "series_id": "CES3133200057",
                                    "industry_code": "31332000",
                                    "industry_name": "Fabricated metal products",
                                    "value": "1421283"
                                },
                                {
                                    "series_id": "CEU5553100057",
                                    "industry_code": "55531000",
                                    "industry_name": "Real estate",
                                    "value": "1418712"
                                },
                                {
                                    "series_id": "CEU3133200057",
                                    "industry_code": "31332000",
                                    "industry_name": "Fabricated metal products",
                                    "value": "1417807"
                                },
                                {
                                    "series_id": "CES5553100057",
                                    "industry_code": "55531000",
                                    "industry_name": "Real estate",
                                    "value": "1417131"
                                },
                                {
                                    "series_id": "CES4348400057",
                                    "industry_code": "43484000",
                                    "industry_name": "Truck transportation",
                                    "value": "1392202"
                                },
                                {
                                    "series_id": "CEU4142500057",
                                    "industry_code": "41425000",
                                    "industry_name": "Electronic markets and agents and brokers",
                                    "value": "1389263"
                                },
                                {
                                    "series_id": "CEU4245200057",
                                    "industry_code": "42452000",
                                    "industry_name": "General merchandise stores",
                                    "value": "1376086"
                                },
                                {
                                    "series_id": "CES4142400082",
                                    "industry_code": "41424000",
                                    "industry_name": "Nondurable goods",
                                    "value": "1367413"
                                },
                                {
                                    "series_id": "CES4142500057",
                                    "industry_code": "41425000",
                                    "industry_name": "Electronic markets and agents and brokers",
                                    "value": "1359605"
                                },
                                {
                                    "series_id": "CEU6562400082",
                                    "industry_code": "65624000",
                                    "industry_name": "Social assistance",
                                    "value": "1357629"
                                },
                                {
                                    "series_id": "CES4244500057",
                                    "industry_code": "42445000",
                                    "industry_name": "Food and beverage stores",
                                    "value": "1352705"
                                },
                                {
                                    "series_id": "CEU4142400082",
                                    "industry_code": "41424000",
                                    "industry_name": "Nondurable goods",
                                    "value": "1348136"
                                },
                                {
                                    "series_id": "CEU4142512057",
                                    "industry_code": "41425120",
                                    "industry_name": "Wholesale trade agents and brokers",
                                    "value": "1347220"
                                },
                                {
                                    "series_id": "CEU4348400057",
                                    "industry_code": "43484000",
                                    "industry_name": "Truck transportation",
                                    "value": "1346733"
                                },
                                {
                                    "series_id": "CEU4244500057",
                                    "industry_code": "42445000",
                                    "industry_name": "Food and beverage stores",
                                    "value": "1338097"
                                },
                                {
                                    "series_id": "CES6562400082",
                                    "industry_code": "65624000",
                                    "industry_name": "Social assistance",
                                    "value": "1337022"
                                },
                                {
                                    "series_id": "CEU6054160082",
                                    "industry_code": "60541600",
                                    "industry_name": "Management and technical consulting services",
                                    "value": "1336594"
                                },
                                {
                                    "series_id": "CES6054160082",
                                    "industry_code": "60541600",
                                    "industry_name": "Management and technical consulting services",
                                    "value": "1330587"
                                },
                                {
                                    "series_id": "CES4142512057",
                                    "industry_code": "41425120",
                                    "industry_name": "Wholesale trade agents and brokers",
                                    "value": "1317589"
                                },
                                {
                                    "series_id": "CEU5552420057",
                                    "industry_code": "55524200",
                                    "industry_name": "Insurance agencies",
                                    "value": "1315375"
                                },
                                {
                                    "series_id": "CEU6054151282",
                                    "industry_code": "60541512",
                                    "industry_name": "Computer systems design services",
                                    "value": "1309441"
                                },
                                {
                                    "series_id": "CES3231100057",
                                    "industry_code": "32311000",
                                    "industry_name": "Food manufacturing",
                                    "value": "1293730"
                                },
                                {
                                    "series_id": "CEU6054170057",
                                    "industry_code": "60541700",
                                    "industry_name": "Scientific research and development services",
                                    "value": "1283264"
                                },
                                {
                                    "series_id": "CES7072251357",
                                    "industry_code": "70722513",
                                    "industry_name": "Limited-service restaurants",
                                    "value": "1281353"
                                },
                                {
                                    "series_id": "CES5552420057",
                                    "industry_code": "55524200",
                                    "industry_name": "Insurance agencies",
                                    "value": "1281029"
                                },
                                {
                                    "series_id": "CEU3231100057",
                                    "industry_code": "32311000",
                                    "industry_name": "Food manufacturing",
                                    "value": "1275631"
                                },
                                {
                                    "series_id": "CES6054151282",
                                    "industry_code": "60541512",
                                    "industry_name": "Computer systems design services",
                                    "value": "1274481"
                                },
                                {
                                    "series_id": "CES6054170057",
                                    "industry_code": "60541700",
                                    "industry_name": "Scientific research and development services",
                                    "value": "1265137"
                                },
                                {
                                    "series_id": "CEU3133300057",
                                    "industry_code": "31333000",
                                    "industry_name": "Machinery",
                                    "value": "1259875"
                                },
                                {
                                    "series_id": "CES3133600082",
                                    "industry_code": "31336000",
                                    "industry_name": "Transportation equipment",
                                    "value": "1257764"
                                },
                                {
                                    "series_id": "CES3133300057",
                                    "industry_code": "31333000",
                                    "industry_name": "Machinery",
                                    "value": "1251217"
                                },
                                {
                                    "series_id": "CEU3133600082",
                                    "industry_code": "31336000",
                                    "industry_name": "Transportation equipment",
                                    "value": "1242685"
                                },
                                {
                                    "series_id": "CEU4244110057",
                                    "industry_code": "42441100",
                                    "industry_name": "Automobile dealers",
                                    "value": "1239175"
                                },
                                {
                                    "series_id": "CEU7072251357",
                                    "industry_code": "70722513",
                                    "industry_name": "Limited-service restaurants",
                                    "value": "1237183"
                                },
                                {
                                    "series_id": "CES4244110057",
                                    "industry_code": "42441100",
                                    "industry_name": "Automobile dealers",
                                    "value": "1232818"
                                },
                                {
                                    "series_id": "CEU5051100057",
                                    "industry_code": "50511000",
                                    "industry_name": "Publishing industries",
                                    "value": "1227512"
                                },
                                {
                                    "series_id": "CES2023700057",
                                    "industry_code": "20237000",
                                    "industry_name": "Heavy and civil engineering construction",
                                    "value": "1221764"
                                },
                                {
                                    "series_id": "CEU5552411057",
                                    "industry_code": "55524110",
                                    "industry_name": "Direct life and health insurance carriers",
                                    "value": "1216763"
                                },
                                {
                                    "series_id": "CEU6054171057",
                                    "industry_code": "60541710",
                                    "industry_name": "Research and development in the physical",
                                    "value": "1207983"
                                },
                                {
                                    "series_id": "CEU6054120057",
                                    "industry_code": "60541200",
                                    "industry_name": "Accounting and bookkeeping services",
                                    "value": "1202203"
                                },
                                {
                                    "series_id": "CEU6054151182",
                                    "industry_code": "60541511",
                                    "industry_name": "Custom computer programming services",
                                    "value": "1198283"
                                },
                                {
                                    "series_id": "CES6054171057",
                                    "industry_code": "60541710",
                                    "industry_name": "Research and development in the physical",
                                    "value": "1188296"
                                },
                                {
                                    "series_id": "CES5051100057",
                                    "industry_code": "50511000",
                                    "industry_name": "Publishing industries",
                                    "value": "1183283"
                                },
                                {
                                    "series_id": "CES4244510057",
                                    "industry_code": "42445100",
                                    "industry_name": "Grocery stores",
                                    "value": "1180650"
                                },
                                {
                                    "series_id": "CES4244100082",
                                    "industry_code": "42441000",
                                    "industry_name": "Motor vehicle and parts dealers",
                                    "value": "1180297"
                                },
                                {
                                    "series_id": "CES6054151182",
                                    "industry_code": "60541511",
                                    "industry_name": "Custom computer programming services",
                                    "value": "1173494"
                                },
                                {
                                    "series_id": "CES5552411057",
                                    "industry_code": "55524110",
                                    "industry_name": "Direct life and health insurance carriers",
                                    "value": "1169424"
                                },
                                {
                                    "series_id": "CEU4244510057",
                                    "industry_code": "42445100",
                                    "industry_name": "Grocery stores",
                                    "value": "1168906"
                                },
                                {
                                    "series_id": "CES7071000057",
                                    "industry_code": "70710000",
                                    "industry_name": "Arts",
                                    "value": "1167355"
                                },
                                {
                                    "series_id": "CEU4244100082",
                                    "industry_code": "42441000",
                                    "industry_name": "Motor vehicle and parts dealers",
                                    "value": "1163420"
                                },
                                {
                                    "series_id": "CES6056170057",
                                    "industry_code": "60561700",
                                    "industry_name": "Services to buildings and dwellings",
                                    "value": "1150182"
                                },
                                {
                                    "series_id": "CES4348400082",
                                    "industry_code": "43484000",
                                    "industry_name": "Truck transportation",
                                    "value": "1131821"
                                },
                                {
                                    "series_id": "CES4244511057",
                                    "industry_code": "42445110",
                                    "industry_name": "Supermarkets and other grocery stores",
                                    "value": "1120814"
                                },
                                {
                                    "series_id": "CEU4244111057",
                                    "industry_code": "42441110",
                                    "industry_name": "New car dealers",
                                    "value": "1119385"
                                },
                                {
                                    "series_id": "CES6054120057",
                                    "industry_code": "60541200",
                                    "industry_name": "Accounting and bookkeeping services",
                                    "value": "1116237"
                                },
                                {
                                    "series_id": "CES2023822057",
                                    "industry_code": "20238220",
                                    "industry_name": "Plumbing and HVAC contractors",
                                    "value": "1115270"
                                },
                                {
                                    "series_id": "CEU4244511057",
                                    "industry_code": "42445110",
                                    "industry_name": "Supermarkets and other grocery stores",
                                    "value": "1110354"
                                },
                                {
                                    "series_id": "CES4244111057",
                                    "industry_code": "42441110",
                                    "industry_name": "New car dealers",
                                    "value": "1110063"
                                },
                                {
                                    "series_id": "CEU6562410057",
                                    "industry_code": "65624100",
                                    "industry_name": "Individual and family services",
                                    "value": "1105190"
                                },
                                {
                                    "series_id": "CES6562410057",
                                    "industry_code": "65624100",
                                    "industry_name": "Individual and family services",
                                    "value": "1095365"
                                },
                                {
                                    "series_id": "CEU6054110082",
                                    "industry_code": "60541100",
                                    "industry_name": "Legal services",
                                    "value": "1093898"
                                },
                                {
                                    "series_id": "CEU4348400082",
                                    "industry_code": "43484000",
                                    "industry_name": "Truck transportation",
                                    "value": "1092427"
                                },
                                {
                                    "series_id": "CEU5552300082",
                                    "industry_code": "55523000",
                                    "industry_name": "NULL",
                                    "value": "1087325"
                                },
                                {
                                    "series_id": "CEU3232500057",
                                    "industry_code": "32325000",
                                    "industry_name": "Chemicals",
                                    "value": "1086916"
                                },
                                {
                                    "series_id": "CES3232500057",
                                    "industry_code": "32325000",
                                    "industry_name": "Chemicals",
                                    "value": "1083956"
                                },
                                {
                                    "series_id": "CEU2023822057",
                                    "industry_code": "20238220",
                                    "industry_name": "Plumbing and HVAC contractors",
                                    "value": "1082068"
                                },
                                {
                                    "series_id": "CEU7071000057",
                                    "industry_code": "70710000",
                                    "industry_name": "Arts",
                                    "value": "1074458"
                                },
                                {
                                    "series_id": "CEU6054161082",
                                    "industry_code": "60541610",
                                    "industry_name": "Management consulting services",
                                    "value": "1066602"
                                },
                                {
                                    "series_id": "CES4245200082",
                                    "industry_code": "42452000",
                                    "industry_name": "General merchandise stores",
                                    "value": "1065807"
                                },
                                {
                                    "series_id": "CES6054110082",
                                    "industry_code": "60541100",
                                    "industry_name": "Legal services",
                                    "value": "1058862"
                                },
                                {
                                    "series_id": "CES6054161082",
                                    "industry_code": "60541610",
                                    "industry_name": "Management consulting services",
                                    "value": "1053691"
                                },
                                {
                                    "series_id": "CEU3133600157",
                                    "industry_code": "31336001",
                                    "industry_name": "NULL",
                                    "value": "1053186"
                                },
                                {
                                    "series_id": "CES6054134082",
                                    "industry_code": "60541340",
                                    "industry_name": "NULL",
                                    "value": "1051499"
                                },
                                {
                                    "series_id": "CES8081100057",
                                    "industry_code": "80811000",
                                    "industry_name": "Repair and maintenance",
                                    "value": "1051091"
                                },
                                {
                                    "series_id": "CES3133600157",
                                    "industry_code": "31336001",
                                    "industry_name": "NULL",
                                    "value": "1050677"
                                },
                                {
                                    "series_id": "CEU4245200082",
                                    "industry_code": "42452000",
                                    "industry_name": "General merchandise stores",
                                    "value": "1049973"
                                },
                                {
                                    "series_id": "CES5552300082",
                                    "industry_code": "55523000",
                                    "industry_name": "NULL",
                                    "value": "1044224"
                                },
                                {
                                    "series_id": "CEU6054134082",
                                    "industry_code": "60541340",
                                    "industry_name": "NULL",
                                    "value": "1042223"
                                },
                                {
                                    "series_id": "CES2023821057",
                                    "industry_code": "20238210",
                                    "industry_name": "Electrical contractors",
                                    "value": "1039534"
                                },
                                {
                                    "series_id": "CEU8081100057",
                                    "industry_code": "80811000",
                                    "industry_name": "Repair and maintenance",
                                    "value": "1038855"
                                },
                                {
                                    "series_id": "CEU6054111082",
                                    "industry_code": "60541110",
                                    "industry_name": "Offices of lawyers",
                                    "value": "1038464"
                                },
                                {
                                    "series_id": "CEU2023700057",
                                    "industry_code": "20237000",
                                    "industry_name": "Heavy and civil engineering construction",
                                    "value": "1023452"
                                },
                                {
                                    "series_id": "CEU5051700057",
                                    "industry_code": "50517000",
                                    "industry_name": "Telecommunications",
                                    "value": "1020155"
                                },
                                {
                                    "series_id": "CEU6562310057",
                                    "industry_code": "65623100",
                                    "industry_name": "Nursing care facilities",
                                    "value": "1017723"
                                },
                                {
                                    "series_id": "CES7072100057",
                                    "industry_code": "70721000",
                                    "industry_name": "Accommodation",
                                    "value": "1008168"
                                },
                                {
                                    "series_id": "CES2023600082",
                                    "industry_code": "20236000",
                                    "industry_name": "Construction of buildings",
                                    "value": "1008035"
                                },
                                {
                                    "series_id": "CEU5552210082",
                                    "industry_code": "55522100",
                                    "industry_name": "Depository credit intermediation",
                                    "value": "1004069"
                                },
                                {
                                    "series_id": "CES6054111082",
                                    "industry_code": "60541110",
                                    "industry_name": "Offices of lawyers",
                                    "value": "1004009"
                                },
                                {
                                    "series_id": "CEU6056170057",
                                    "industry_code": "60561700",
                                    "industry_name": "Services to buildings and dwellings",
                                    "value": "999862"
                                },
                                {
                                    "series_id": "CES6562310057",
                                    "industry_code": "65623100",
                                    "industry_name": "Nursing care facilities",
                                    "value": "994994"
                                },
                                {
                                    "series_id": "CES5051700057",
                                    "industry_code": "50517000",
                                    "industry_name": "Telecommunications",
                                    "value": "992441"
                                },
                                {
                                    "series_id": "CES2023620057",
                                    "industry_code": "20236200",
                                    "industry_name": "Nonresidential building",
                                    "value": "990555"
                                },
                                {
                                    "series_id": "CEU2023821057",
                                    "industry_code": "20238210",
                                    "industry_name": "Electrical contractors",
                                    "value": "988806"
                                },
                                {
                                    "series_id": "CEU6054161157",
                                    "industry_code": "60541611",
                                    "industry_name": "Administrative management consulting services",
                                    "value": "981156"
                                },
                                {
                                    "series_id": "CES7072110057",
                                    "industry_code": "70721100",
                                    "industry_name": "Traveler accommodation",
                                    "value": "980738"
                                },
                                {
                                    "series_id": "CES4244500082",
                                    "industry_code": "42445000",
                                    "industry_name": "Food and beverage stores",
                                    "value": "974710"
                                },
                                {
                                    "series_id": "CEU1000000057",
                                    "industry_code": "10000000",
                                    "industry_name": "Mining and logging",
                                    "value": "973773"
                                },
                                {
                                    "series_id": "CES5552210082",
                                    "industry_code": "55522100",
                                    "industry_name": "Depository credit intermediation",
                                    "value": "971796"
                                },
                                {
                                    "series_id": "CES7072251382",
                                    "industry_code": "70722513",
                                    "industry_name": "Limited-service restaurants",
                                    "value": "969748"
                                },
                                {
                                    "series_id": "CES1000000057",
                                    "industry_code": "10000000",
                                    "industry_name": "Mining and logging",
                                    "value": "966707"
                                },
                                {
                                    "series_id": "CES4348410057",
                                    "industry_code": "43484100",
                                    "industry_name": "General freight trucking",
                                    "value": "966602"
                                },
                                {
                                    "series_id": "CEU4244500082",
                                    "industry_code": "42445000",
                                    "industry_name": "Food and beverage stores",
                                    "value": "963315"
                                },
                                {
                                    "series_id": "CEU7072100057",
                                    "industry_code": "70721000",
                                    "industry_name": "Accommodation",
                                    "value": "958129"
                                },
                                {
                                    "series_id": "CES6054161157",
                                    "industry_code": "60541611",
                                    "industry_name": "Administrative management consulting services",
                                    "value": "955447"
                                },
                                {
                                    "series_id": "CEU2023620057",
                                    "industry_code": "20236200",
                                    "industry_name": "Nonresidential building",
                                    "value": "953792"
                                },
                                {
                                    "series_id": "CEU4348410057",
                                    "industry_code": "43484100",
                                    "industry_name": "General freight trucking",
                                    "value": "952051"
                                },
                                {
                                    "series_id": "CEU4142340057",
                                    "industry_code": "41423400",
                                    "industry_name": "Commercial equipment",
                                    "value": "949056"
                                },
                                {
                                    "series_id": "CEU5552412057",
                                    "industry_code": "55524120",
                                    "industry_name": "Direct insurers",
                                    "value": "941433"
                                },
                                {
                                    "series_id": "CEU2023600082",
                                    "industry_code": "20236000",
                                    "industry_name": "Construction of buildings",
                                    "value": "940800"
                                },
                                {
                                    "series_id": "CES4000000056",
                                    "industry_code": "40000000",
                                    "industry_name": "Trade",
                                    "value": "939889"
                                },
                                {
                                    "series_id": "CEU7072110057",
                                    "industry_code": "70721100",
                                    "industry_name": "Traveler accommodation",
                                    "value": "938363"
                                },
                                {
                                    "series_id": "CEU5552390057",
                                    "industry_code": "55523900",
                                    "industry_name": "Other financial investment activities",
                                    "value": "937922"
                                },
                                {
                                    "series_id": "CEU1021000057",
                                    "industry_code": "10210000",
                                    "industry_name": "Mining",
                                    "value": "932874"
                                },
                                {
                                    "series_id": "CEU4000000056",
                                    "industry_code": "40000000",
                                    "industry_name": "Trade",
                                    "value": "928918"
                                },
                                {
                                    "series_id": "CES1021000057",
                                    "industry_code": "10210000",
                                    "industry_name": "Mining",
                                    "value": "927250"
                                },
                                {
                                    "series_id": "CEU7072251382",
                                    "industry_code": "70722513",
                                    "industry_name": "Limited-service restaurants",
                                    "value": "922041"
                                },
                                {
                                    "series_id": "CES4422000057",
                                    "industry_code": "44220000",
                                    "industry_name": "Utilities",
                                    "value": "920941"
                                },
                                {
                                    "series_id": "CEU4422000057",
                                    "industry_code": "44220000",
                                    "industry_name": "Utilities",
                                    "value": "919164"
                                },
                                {
                                    "series_id": "CES5552412057",
                                    "industry_code": "55524120",
                                    "industry_name": "Direct insurers",
                                    "value": "917557"
                                },
                                {
                                    "series_id": "CES4142340057",
                                    "industry_code": "41423400",
                                    "industry_name": "Commercial equipment",
                                    "value": "915034"
                                },
                                {
                                    "series_id": "CES2023700082",
                                    "industry_code": "20237000",
                                    "industry_name": "Heavy and civil engineering construction",
                                    "value": "908374"
                                },
                                {
                                    "series_id": "CES5552390057",
                                    "industry_code": "55523900",
                                    "industry_name": "Other financial investment activities",
                                    "value": "905217"
                                },
                                {
                                    "series_id": "CEU5552420082",
                                    "industry_code": "55524200",
                                    "industry_name": "Insurance agencies",
                                    "value": "894878"
                                },
                                {
                                    "series_id": "CEU5552320057",
                                    "industry_code": "55523200",
                                    "industry_name": "NULL",
                                    "value": "882519"
                                },
                                {
                                    "series_id": "CES3133640057",
                                    "industry_code": "31336400",
                                    "industry_name": "Aerospace products and parts",
                                    "value": "879785"
                                },
                                {
                                    "series_id": "CEU5552421057",
                                    "industry_code": "55524210",
                                    "industry_name": "Insurance agencies and brokerages",
                                    "value": "878065"
                                },
                                {
                                    "series_id": "CEU6054171257",
                                    "industry_code": "60541712",
                                    "industry_name": "Physical",
                                    "value": "874882"
                                },
                                {
                                    "series_id": "CEU4142500082",
                                    "industry_code": "41425000",
                                    "industry_name": "Electronic markets and agents and brokers",
                                    "value": "873578"
                                },
                                {
                                    "series_id": "CEU3133640057",
                                    "industry_code": "31336400",
                                    "industry_name": "Aerospace products and parts",
                                    "value": "872986"
                                },
                                {
                                    "series_id": "CES5552420082",
                                    "industry_code": "55524200",
                                    "industry_name": "Insurance agencies",
                                    "value": "872398"
                                },
                                {
                                    "series_id": "CES3133200082",
                                    "industry_code": "31332000",
                                    "industry_name": "Fabricated metal products",
                                    "value": "871298"
                                },
                                {
                                    "series_id": "CES4244510082",
                                    "industry_code": "42445100",
                                    "industry_name": "Grocery stores",
                                    "value": "868430"
                                },
                                {
                                    "series_id": "CEU3133200082",
                                    "industry_code": "31332000",
                                    "industry_name": "Fabricated metal products",
                                    "value": "867242"
                                },
                                {
                                    "series_id": "CEU5553100082",
                                    "industry_code": "55531000",
                                    "industry_name": "Real estate",
                                    "value": "865620"
                                },
                                {
                                    "series_id": "CES5553100082",
                                    "industry_code": "55531000",
                                    "industry_name": "Real estate",
                                    "value": "862987"
                                },
                                {
                                    "series_id": "CEU4244510082",
                                    "industry_code": "42445100",
                                    "industry_name": "Grocery stores",
                                    "value": "861224"
                                },
                                {
                                    "series_id": "CES6054171257",
                                    "industry_code": "60541712",
                                    "industry_name": "Physical",
                                    "value": "860377"
                                },
                                {
                                    "series_id": "CEU5051120057",
                                    "industry_code": "50511200",
                                    "industry_name": "Software publishers",
                                    "value": "860100"
                                },
                                {
                                    "series_id": "CES5552421057",
                                    "industry_code": "55524210",
                                    "industry_name": "Insurance agencies and brokerages",
                                    "value": "858730"
                                },
                                {
                                    "series_id": "CES4142500082",
                                    "industry_code": "41425000",
                                    "industry_name": "Electronic markets and agents and brokers",
                                    "value": "855291"
                                },
                                {
                                    "series_id": "CES5552320057",
                                    "industry_code": "55523200",
                                    "industry_name": "NULL",
                                    "value": "852241"
                                },
                                {
                                    "series_id": "CEU4142512082",
                                    "industry_code": "41425120",
                                    "industry_name": "Wholesale trade agents and brokers",
                                    "value": "851551"
                                },
                                {
                                    "series_id": "CES3231100082",
                                    "industry_code": "32311000",
                                    "industry_name": "Food manufacturing",
                                    "value": "851406"
                                },
                                {
                                    "series_id": "CEU6562140057",
                                    "industry_code": "65621400",
                                    "industry_name": "Outpatient care centers",
                                    "value": "848281"
                                },
                                {
                                    "series_id": "CEU6562120057",
                                    "industry_code": "65621200",
                                    "industry_name": "Offices of dentists",
                                    "value": "847345"
                                },
                                {
                                    "series_id": "CES6056170082",
                                    "industry_code": "60561700",
                                    "industry_name": "Services to buildings and dwellings",
                                    "value": "846000"
                                },
                                {
                                    "series_id": "CES6562120057",
                                    "industry_code": "65621200",
                                    "industry_name": "Offices of dentists",
                                    "value": "842558"
                                },
                                {
                                    "series_id": "CEU3231100082",
                                    "industry_code": "32311000",
                                    "industry_name": "Food manufacturing",
                                    "value": "842201"
                                },
                                {
                                    "series_id": "CES4244110082",
                                    "industry_code": "42441100",
                                    "industry_name": "Automobile dealers",
                                    "value": "839595"
                                },
                                {
                                    "series_id": "CES6562140057",
                                    "industry_code": "65621400",
                                    "industry_name": "Outpatient care centers",
                                    "value": "839455"
                                },
                                {
                                    "series_id": "CEU6562410082",
                                    "industry_code": "65624100",
                                    "industry_name": "Individual and family services",
                                    "value": "838886"
                                },
                                {
                                    "series_id": "CES2023810057",
                                    "industry_code": "20238100",
                                    "industry_name": "Building foundation and exterior contractors",
                                    "value": "833625"
                                },
                                {
                                    "series_id": "CES4142512082",
                                    "industry_code": "41425120",
                                    "industry_name": "Wholesale trade agents and brokers",
                                    "value": "831319"
                                },
                                {
                                    "series_id": "CEU4244110082",
                                    "industry_code": "42441100",
                                    "industry_name": "Automobile dealers",
                                    "value": "831131"
                                },
                                {
                                    "series_id": "CES6562410082",
                                    "industry_code": "65624100",
                                    "industry_name": "Individual and family services",
                                    "value": "828771"
                                },
                                {
                                    "series_id": "CES4244511082",
                                    "industry_code": "42445110",
                                    "industry_name": "Supermarkets and other grocery stores",
                                    "value": "821282"
                                }
                            ]
                        },
                        "text/html": "<table><tr><th>series_id</th><th>industry_code</th><th>industry_name</th><th>value</th></tr><tr><td>CES0500000057</td><td>5000000</td><td>Total private</td><td>110301694</td></tr><tr><td>CEU0500000057</td><td>5000000</td><td>Total private</td><td>109731861</td></tr><tr><td>CEU0800000057</td><td>8000000</td><td>Private service-providing</td><td>88446140</td></tr><tr><td>CES0800000057</td><td>8000000</td><td>Private service-providing</td><td>88280865</td></tr><tr><td>CES0500000082</td><td>5000000</td><td>Total private</td><td>74498171</td></tr><tr><td>CEU0500000082</td><td>5000000</td><td>Total private</td><td>73474302</td></tr><tr><td>CES0800000082</td><td>8000000</td><td>Private service-providing</td><td>60914722</td></tr><tr><td>CEU0800000082</td><td>8000000</td><td>Private service-providing</td><td>60807771</td></tr><tr><td>CEU6000000057</td><td>60000000</td><td>Professional and business services</td><td>23230608</td></tr><tr><td>CES6000000057</td><td>60000000</td><td>Professional and business services</td><td>23113158</td></tr><tr><td>CES0600000057</td><td>6000000</td><td>Goods-producing</td><td>21779094</td></tr><tr><td>CES4000000057</td><td>40000000</td><td>Trade</td><td>21232093</td></tr><tr><td>CEU4000000057</td><td>40000000</td><td>Trade</td><td>21207198</td></tr><tr><td>CEU0600000057</td><td>6000000</td><td>Goods-producing</td><td>21113749</td></tr><tr><td>CEU6500000057</td><td>65000000</td><td>Education and health services</td><td>19616812</td></tr><tr><td>CES6500000057</td><td>65000000</td><td>Education and health services</td><td>19585920</td></tr><tr><td>CEU6562000057</td><td>65620000</td><td>Health care and social assistance</td><td>16893809</td></tr><tr><td>CES6562000057</td><td>65620000</td><td>Health care and social assistance</td><td>16718245</td></tr><tr><td>CES6000000082</td><td>60000000</td><td>Professional and business services</td><td>15251268</td></tr><tr><td>CEU6000000082</td><td>60000000</td><td>Professional and business services</td><td>15219807</td></tr><tr><td>CEU6562000157</td><td>65620001</td><td>NULL</td><td>15094574</td></tr><tr><td>CES6562000157</td><td>65620001</td><td>NULL</td><td>14957970</td></tr><tr><td>CES4000000082</td><td>40000000</td><td>Trade</td><td>14850661</td></tr><tr><td>CEU6500000082</td><td>65000000</td><td>Education and health services</td><td>14816074</td></tr><tr><td>CES6500000082</td><td>65000000</td><td>Education and health services</td><td>14765156</td></tr><tr><td>CEU4000000082</td><td>40000000</td><td>Trade</td><td>14732108</td></tr><tr><td>CEU6054000057</td><td>60540000</td><td>Professional and technical services</td><td>13718735</td></tr><tr><td>CES6054000057</td><td>60540000</td><td>Professional and technical services</td><td>13464691</td></tr><tr><td>CES0600000082</td><td>6000000</td><td>Goods-producing</td><td>13426820</td></tr><tr><td>CES3000000057</td><td>30000000</td><td>Manufacturing</td><td>13282613</td></tr><tr><td>CEU3000000057</td><td>30000000</td><td>Manufacturing</td><td>13241229</td></tr><tr><td>CEU6562000082</td><td>65620000</td><td>Health care and social assistance</td><td>12878462</td></tr><tr><td>CES6562000082</td><td>65620000</td><td>Health care and social assistance</td><td>12762526</td></tr><tr><td>CEU0600000082</td><td>6000000</td><td>Goods-producing</td><td>12711945</td></tr><tr><td>CEU6562000182</td><td>65620001</td><td>NULL</td><td>11537267</td></tr><tr><td>CES6562000182</td><td>65620001</td><td>NULL</td><td>11413008</td></tr><tr><td>CEU5500000057</td><td>55000000</td><td>Financial activities</td><td>10456034</td></tr><tr><td>CES5500000057</td><td>55000000</td><td>Financial activities</td><td>10213192</td></tr><tr><td>CEU6054000082</td><td>60540000</td><td>Professional and technical services</td><td>8976687</td></tr><tr><td>CES4200000057</td><td>42000000</td><td>Retail trade</td><td>8857570</td></tr><tr><td>CES6054000082</td><td>60540000</td><td>Professional and technical services</td><td>8821026</td></tr><tr><td>CES3100000057</td><td>31000000</td><td>Durable goods</td><td>8769944</td></tr><tr><td>CEU4200000057</td><td>42000000</td><td>Retail trade</td><td>8761040</td></tr><tr><td>CEU3100000057</td><td>31000000</td><td>Durable goods</td><td>8758974</td></tr><tr><td>CES2000000057</td><td>20000000</td><td>Construction</td><td>7555007</td></tr><tr><td>CES3000000082</td><td>30000000</td><td>Manufacturing</td><td>7491723</td></tr><tr><td>CEU3000000082</td><td>30000000</td><td>Manufacturing</td><td>7411960</td></tr><tr><td>CEU6562100057</td><td>65621000</td><td>Ambulatory health care services</td><td>7203262</td></tr><tr><td>CES6562100057</td><td>65621000</td><td>Ambulatory health care services</td><td>7193566</td></tr><tr><td>CEU4142000057</td><td>41420000</td><td>Wholesale trade</td><td>6930351</td></tr><tr><td>CEU2000000057</td><td>20000000</td><td>Construction</td><td>6925429</td></tr><tr><td>CES4142000057</td><td>41420000</td><td>Wholesale trade</td><td>6858602</td></tr><tr><td>CEU5500000082</td><td>55000000</td><td>Financial activities</td><td>6467426</td></tr><tr><td>CES5500000082</td><td>55000000</td><td>Financial activities</td><td>6328968</td></tr><tr><td>CES6056000057</td><td>60560000</td><td>Administrative and waste services</td><td>6272001</td></tr><tr><td>CES7000000057</td><td>70000000</td><td>Leisure and hospitality</td><td>6232054</td></tr><tr><td>CES4200000082</td><td>42000000</td><td>Retail trade</td><td>6123554</td></tr><tr><td>CEU4200000082</td><td>42000000</td><td>Retail trade</td><td>6060100</td></tr><tr><td>CEU6056000057</td><td>60560000</td><td>Administrative and waste services</td><td>6040399</td></tr><tr><td>CEU6562200057</td><td>65622000</td><td>Hospitals</td><td>5923747</td></tr><tr><td>CEU7000000057</td><td>70000000</td><td>Leisure and hospitality</td><td>5920672</td></tr><tr><td>CES6562200057</td><td>65622000</td><td>Hospitals</td><td>5842779</td></tr><tr><td>CES6056100057</td><td>60561000</td><td>Administrative and support services</td><td>5838373</td></tr><tr><td>CEU6056100057</td><td>60561000</td><td>Administrative and support services</td><td>5597836</td></tr><tr><td>CEU6562210057</td><td>65622100</td><td>General medical and surgical hospitals</td><td>5505844</td></tr><tr><td>CES6562210057</td><td>65622100</td><td>General medical and surgical hospitals</td><td>5428714</td></tr><tr><td>CES2000000082</td><td>20000000</td><td>Construction</td><td>5335274</td></tr><tr><td>CEU6562200082</td><td>65622000</td><td>Hospitals</td><td>5105336</td></tr><tr><td>CES7072000057</td><td>70720000</td><td>Accommodation and food services</td><td>5078737</td></tr><tr><td>CES6562200082</td><td>65622000</td><td>Hospitals</td><td>5048432</td></tr><tr><td>CEU6562100082</td><td>65621000</td><td>Ambulatory health care services</td><td>4907269</td></tr><tr><td>CES6056000082</td><td>60560000</td><td>Administrative and waste services</td><td>4886085</td></tr><tr><td>CES6562100082</td><td>65621000</td><td>Ambulatory health care services</td><td>4875906</td></tr><tr><td>CES3100000082</td><td>31000000</td><td>Durable goods</td><td>4859716</td></tr><tr><td>CEU7072000057</td><td>70720000</td><td>Accommodation and food services</td><td>4847577</td></tr><tr><td>CEU3100000082</td><td>31000000</td><td>Durable goods</td><td>4808368</td></tr><tr><td>CEU6562210082</td><td>65622100</td><td>General medical and surgical hospitals</td><td>4773547</td></tr><tr><td>CEU2000000082</td><td>20000000</td><td>Construction</td><td>4724156</td></tr><tr><td>CES6562210082</td><td>65622100</td><td>General medical and surgical hospitals</td><td>4716914</td></tr><tr><td>CEU6056000082</td><td>60560000</td><td>Administrative and waste services</td><td>4659531</td></tr><tr><td>CES2023800057</td><td>20238000</td><td>Specialty trade contractors</td><td>4595075</td></tr><tr><td>CES4300000057</td><td>43000000</td><td>Transportation and warehousing</td><td>4588906</td></tr><tr><td>CEU4300000057</td><td>43000000</td><td>Transportation and warehousing</td><td>4575913</td></tr><tr><td>CES6056100082</td><td>60561000</td><td>Administrative and support services</td><td>4565569</td></tr><tr><td>CES7000000082</td><td>70000000</td><td>Leisure and hospitality</td><td>4537173</td></tr><tr><td>CEU4142000082</td><td>41420000</td><td>Wholesale trade</td><td>4506110</td></tr><tr><td>CES3200000057</td><td>32000000</td><td>Nondurable goods</td><td>4496035</td></tr><tr><td>CES4142000082</td><td>41420000</td><td>Wholesale trade</td><td>4480134</td></tr><tr><td>CEU3200000057</td><td>32000000</td><td>Nondurable goods</td><td>4468396</td></tr><tr><td>CEU6056100082</td><td>60561000</td><td>Administrative and support services</td><td>4357866</td></tr><tr><td>CES8000000057</td><td>80000000</td><td>Other services</td><td>4263141</td></tr><tr><td>CEU8000000057</td><td>80000000</td><td>Other services</td><td>4254988</td></tr><tr><td>CES0500000056</td><td>5000000</td><td>Total private</td><td>4239112</td></tr><tr><td>CEU7000000082</td><td>70000000</td><td>Leisure and hospitality</td><td>4224098</td></tr><tr><td>CEU2023800057</td><td>20238000</td><td>Specialty trade contractors</td><td>4210973</td></tr><tr><td>CEU0500000056</td><td>5000000</td><td>Total private</td><td>4165978</td></tr><tr><td>CES7072200057</td><td>70722000</td><td>Food services and drinking places</td><td>4058595</td></tr><tr><td>CEU7072200057</td><td>70722000</td><td>Food services and drinking places</td><td>3877793</td></tr><tr><td>CEU5000000057</td><td>50000000</td><td>Information</td><td>3839933</td></tr><tr><td>CES7072000082</td><td>70720000</td><td>Accommodation and food services</td><td>3802356</td></tr><tr><td>CES5000000057</td><td>50000000</td><td>Information</td><td>3751205</td></tr><tr><td>CEU6054150057</td><td>60541500</td><td>Computer systems design and related services</td><td>3676138</td></tr><tr><td>CES7072250057</td><td>70722500</td><td>Restaurants and other eating places</td><td>3617277</td></tr><tr><td>CES6054150057</td><td>60541500</td><td>Computer systems design and related services</td><td>3595409</td></tr><tr><td>CEU7072000082</td><td>70720000</td><td>Accommodation and food services</td><td>3572648</td></tr><tr><td>CES4300000082</td><td>43000000</td><td>Transportation and warehousing</td><td>3538683</td></tr><tr><td>CEU5552400057</td><td>55524000</td><td>Insurance carriers and related activities</td><td>3532152</td></tr><tr><td>CES6562110057</td><td>65621100</td><td>Offices of physicians</td><td>3521877</td></tr><tr><td>CEU6562110057</td><td>65621100</td><td>Offices of physicians</td><td>3513888</td></tr><tr><td>CEU4300000082</td><td>43000000</td><td>Transportation and warehousing</td><td>3495553</td></tr><tr><td>CEU4142300057</td><td>41423000</td><td>Durable goods</td><td>3494945</td></tr><tr><td>CEU6055000057</td><td>60550000</td><td>Management of companies and enterprises</td><td>3491614</td></tr><tr><td>CES6562111157</td><td>65621111</td><td>Offices of physicians</td><td>3472162</td></tr><tr><td>CEU7072250057</td><td>70722500</td><td>Restaurants and other eating places</td><td>3471778</td></tr><tr><td>CEU6562111157</td><td>65621111</td><td>Offices of physicians</td><td>3465699</td></tr><tr><td>CES4142300057</td><td>41423000</td><td>Durable goods</td><td>3449034</td></tr><tr><td>CES0800000056</td><td>8000000</td><td>Private service-providing</td><td>3432382</td></tr><tr><td>CES6055000057</td><td>60550000</td><td>Management of companies and enterprises</td><td>3428612</td></tr><tr><td>CES2023800082</td><td>20238000</td><td>Specialty trade contractors</td><td>3421902</td></tr><tr><td>CES0500000081</td><td>5000000</td><td>Total private</td><td>3412651</td></tr><tr><td>CES5552400057</td><td>55524000</td><td>Insurance carriers and related activities</td><td>3411895</td></tr><tr><td>CEU0800000056</td><td>8000000</td><td>Private service-providing</td><td>3388741</td></tr><tr><td>CEU0500000081</td><td>5000000</td><td>Total private</td><td>3335193</td></tr><tr><td>CEU6055111457</td><td>60551114</td><td>Managing offices</td><td>3329401</td></tr><tr><td>CES6055111457</td><td>60551114</td><td>Managing offices</td><td>3270688</td></tr><tr><td>CEU5552200057</td><td>55522000</td><td>Credit intermediation and related activities</td><td>3149170</td></tr><tr><td>CES7072200082</td><td>70722000</td><td>Food services and drinking places</td><td>3085429</td></tr><tr><td>CES5552200057</td><td>55522000</td><td>Credit intermediation and related activities</td><td>3075310</td></tr><tr><td>CEU2023800082</td><td>20238000</td><td>Specialty trade contractors</td><td>3062211</td></tr><tr><td>CEU7072200082</td><td>70722000</td><td>Food services and drinking places</td><td>2913295</td></tr><tr><td>CES8000000082</td><td>80000000</td><td>Other services</td><td>2875314</td></tr><tr><td>CEU8000000082</td><td>80000000</td><td>Other services</td><td>2836698</td></tr><tr><td>CES0800000081</td><td>8000000</td><td>Private service-providing</td><td>2818821</td></tr><tr><td>CEU0800000081</td><td>8000000</td><td>Private service-providing</td><td>2777879</td></tr><tr><td>CES7072250082</td><td>70722500</td><td>Restaurants and other eating places</td><td>2768855</td></tr><tr><td>CEU6054150082</td><td>60541500</td><td>Computer systems design and related services</td><td>2725031</td></tr><tr><td>CES6054150082</td><td>60541500</td><td>Computer systems design and related services</td><td>2666568</td></tr><tr><td>CES3200000082</td><td>32000000</td><td>Nondurable goods</td><td>2633628</td></tr><tr><td>CEU7072250082</td><td>70722500</td><td>Restaurants and other eating places</td><td>2617225</td></tr><tr><td>CEU3200000082</td><td>32000000</td><td>Nondurable goods</td><td>2605069</td></tr><tr><td>CEU8081300057</td><td>80813000</td><td>Membership associations and organizations</td><td>2507238</td></tr><tr><td>CES8081300057</td><td>80813000</td><td>Membership associations and organizations</td><td>2494120</td></tr><tr><td>CEU5000000082</td><td>50000000</td><td>Information</td><td>2434992</td></tr><tr><td>CES5000000082</td><td>50000000</td><td>Information</td><td>2416443</td></tr><tr><td>CEU5552400082</td><td>55524000</td><td>Insurance carriers and related activities</td><td>2408490</td></tr><tr><td>CES5552400082</td><td>55524000</td><td>Insurance carriers and related activities</td><td>2347328</td></tr><tr><td>CES2023820057</td><td>20238200</td><td>Building equipment contractors</td><td>2326342</td></tr><tr><td>CEU4142300082</td><td>41423000</td><td>Durable goods</td><td>2283094</td></tr><tr><td>CES4142300082</td><td>41423000</td><td>Durable goods</td><td>2261006</td></tr><tr><td>CES6056130057</td><td>60561300</td><td>Employment services</td><td>2255347</td></tr><tr><td>CEU2023820057</td><td>20238200</td><td>Building equipment contractors</td><td>2238858</td></tr><tr><td>CEU5552410057</td><td>55524100</td><td>Insurance carriers</td><td>2215577</td></tr><tr><td>CEU6056130057</td><td>60561300</td><td>Employment services</td><td>2167910</td></tr><tr><td>CES6054130057</td><td>60541300</td><td>Architectural and engineering services</td><td>2152162</td></tr><tr><td>CEU6562110082</td><td>65621100</td><td>Offices of physicians</td><td>2149121</td></tr><tr><td>CEU6054130057</td><td>60541300</td><td>Architectural and engineering services</td><td>2146385</td></tr><tr><td>CES6562110082</td><td>65621100</td><td>Offices of physicians</td><td>2141331</td></tr><tr><td>CEU3133600057</td><td>31336000</td><td>Transportation equipment</td><td>2137791</td></tr><tr><td>CES3133600057</td><td>31336000</td><td>Transportation equipment</td><td>2130760</td></tr><tr><td>CES5552410057</td><td>55524100</td><td>Insurance carriers</td><td>2130379</td></tr><tr><td>CEU6054160057</td><td>60541600</td><td>Management and technical consulting services</td><td>2123095</td></tr><tr><td>CEU6562111182</td><td>65621111</td><td>Offices of physicians</td><td>2121845</td></tr><tr><td>CES6562111182</td><td>65621111</td><td>Offices of physicians</td><td>2113086</td></tr><tr><td>CES7072251157</td><td>70722511</td><td>Full-service restaurants</td><td>2105534</td></tr><tr><td>CES6054160057</td><td>60541600</td><td>Management and technical consulting services</td><td>2103707</td></tr><tr><td>CEU4142400057</td><td>41424000</td><td>Nondurable goods</td><td>2044132</td></tr><tr><td>CES4142400057</td><td>41424000</td><td>Nondurable goods</td><td>2042100</td></tr><tr><td>CES6056130082</td><td>60561300</td><td>Employment services</td><td>2013846</td></tr><tr><td>CEU7072251157</td><td>70722511</td><td>Full-service restaurants</td><td>2009900</td></tr><tr><td>CEU6562300057</td><td>65623000</td><td>Nursing and residential care facilities</td><td>1981669</td></tr><tr><td>CEU5552210057</td><td>55522100</td><td>Depository credit intermediation</td><td>1979117</td></tr><tr><td>CES6562300057</td><td>65623000</td><td>Nursing and residential care facilities</td><td>1941241</td></tr><tr><td>CEU6056130082</td><td>60561300</td><td>Employment services</td><td>1938059</td></tr><tr><td>CES5552210057</td><td>55522100</td><td>Depository credit intermediation</td><td>1921539</td></tr><tr><td>CEU5552300057</td><td>55523000</td><td>NULL</td><td>1818312</td></tr><tr><td>CEU6562400057</td><td>65624000</td><td>Social assistance</td><td>1811418</td></tr><tr><td>CES6562400057</td><td>65624000</td><td>Social assistance</td><td>1787502</td></tr><tr><td>CEU5552200082</td><td>55522000</td><td>Credit intermediation and related activities</td><td>1767137</td></tr><tr><td>CES2023600057</td><td>20236000</td><td>Construction of buildings</td><td>1765016</td></tr><tr><td>CES5552300057</td><td>55523000</td><td>NULL</td><td>1756545</td></tr><tr><td>CEU6054161057</td><td>60541610</td><td>Management consulting services</td><td>1755386</td></tr><tr><td>CES4244100057</td><td>42441000</td><td>Motor vehicle and parts dealers</td><td>1740340</td></tr><tr><td>CEU6054151257</td><td>60541512</td><td>Computer systems design services</td><td>1738428</td></tr><tr><td>CEU4244100057</td><td>42441000</td><td>Motor vehicle and parts dealers</td><td>1724940</td></tr><tr><td>CES6056132057</td><td>60561320</td><td>Temporary help services</td><td>1723484</td></tr><tr><td>CEU6054110057</td><td>60541100</td><td>Legal services</td><td>1722541</td></tr><tr><td>CES5552200082</td><td>55522000</td><td>Credit intermediation and related activities</td><td>1717912</td></tr><tr><td>CES6054161057</td><td>60541610</td><td>Management consulting services</td><td>1711601</td></tr><tr><td>CES2023820082</td><td>20238200</td><td>Building equipment contractors</td><td>1696080</td></tr><tr><td>CES6054151257</td><td>60541512</td><td>Computer systems design services</td><td>1695613</td></tr><tr><td>CEU2023600057</td><td>20236000</td><td>Construction of buildings</td><td>1692237</td></tr><tr><td>CES6054110057</td><td>60541100</td><td>Legal services</td><td>1666281</td></tr><tr><td>CEU6056132057</td><td>60561320</td><td>Temporary help services</td><td>1650527</td></tr><tr><td>CEU6054111057</td><td>60541110</td><td>Offices of lawyers</td><td>1641024</td></tr><tr><td>CEU6054151157</td><td>60541511</td><td>Custom computer programming services</td><td>1639255</td></tr><tr><td>CES7072251182</td><td>70722511</td><td>Full-service restaurants</td><td>1626780</td></tr><tr><td>CEU2023820082</td><td>20238200</td><td>Building equipment contractors</td><td>1621266</td></tr><tr><td>CES8081300082</td><td>80813000</td><td>Membership associations and organizations</td><td>1599916</td></tr><tr><td>CES6056132082</td><td>60561320</td><td>Temporary help services</td><td>1598939</td></tr><tr><td>CES6054151157</td><td>60541511</td><td>Custom computer programming services</td><td>1596292</td></tr><tr><td>CEU8081300082</td><td>80813000</td><td>Membership associations and organizations</td><td>1594855</td></tr><tr><td>CES6054111057</td><td>60541110</td><td>Offices of lawyers</td><td>1588040</td></tr><tr><td>CEU6055000082</td><td>60550000</td><td>Management of companies and enterprises</td><td>1587677</td></tr><tr><td>CEU5552211057</td><td>55522110</td><td>Commercial banking</td><td>1575662</td></tr><tr><td>CES6055000082</td><td>60550000</td><td>Management of companies and enterprises</td><td>1566036</td></tr><tr><td>CEU6054134057</td><td>60541340</td><td>NULL</td><td>1537888</td></tr><tr><td>CES6054134057</td><td>60541340</td><td>NULL</td><td>1536969</td></tr><tr><td>CES5552211057</td><td>55522110</td><td>Commercial banking</td><td>1533413</td></tr><tr><td>CEU6056132082</td><td>60561320</td><td>Temporary help services</td><td>1530782</td></tr><tr><td>CEU7072251182</td><td>70722511</td><td>Full-service restaurants</td><td>1528888</td></tr><tr><td>CEU6562300082</td><td>65623000</td><td>Nursing and residential care facilities</td><td>1525889</td></tr><tr><td>CEU6055111482</td><td>60551114</td><td>Managing offices</td><td>1517287</td></tr><tr><td>CEU5552410082</td><td>55524100</td><td>Insurance carriers</td><td>1509979</td></tr><tr><td>CEU3133400057</td><td>31334000</td><td>Computer and electronic products</td><td>1499453</td></tr><tr><td>CES6055111482</td><td>60551114</td><td>Managing offices</td><td>1496334</td></tr><tr><td>CES3133400057</td><td>31334000</td><td>Computer and electronic products</td><td>1489440</td></tr><tr><td>CES6562300082</td><td>65623000</td><td>Nursing and residential care facilities</td><td>1489277</td></tr><tr><td>CES5552410082</td><td>55524100</td><td>Insurance carriers</td><td>1477799</td></tr><tr><td>CES6054130082</td><td>60541300</td><td>Architectural and engineering services</td><td>1439445</td></tr><tr><td>CES4245200057</td><td>42452000</td><td>General merchandise stores</td><td>1437264</td></tr><tr><td>CEU6054130082</td><td>60541300</td><td>Architectural and engineering services</td><td>1422967</td></tr><tr><td>CES3133200057</td><td>31332000</td><td>Fabricated metal products</td><td>1421283</td></tr><tr><td>CEU5553100057</td><td>55531000</td><td>Real estate</td><td>1418712</td></tr><tr><td>CEU3133200057</td><td>31332000</td><td>Fabricated metal products</td><td>1417807</td></tr><tr><td>CES5553100057</td><td>55531000</td><td>Real estate</td><td>1417131</td></tr><tr><td>CES4348400057</td><td>43484000</td><td>Truck transportation</td><td>1392202</td></tr><tr><td>CEU4142500057</td><td>41425000</td><td>Electronic markets and agents and brokers</td><td>1389263</td></tr><tr><td>CEU4245200057</td><td>42452000</td><td>General merchandise stores</td><td>1376086</td></tr><tr><td>CES4142400082</td><td>41424000</td><td>Nondurable goods</td><td>1367413</td></tr><tr><td>CES4142500057</td><td>41425000</td><td>Electronic markets and agents and brokers</td><td>1359605</td></tr><tr><td>CEU6562400082</td><td>65624000</td><td>Social assistance</td><td>1357629</td></tr><tr><td>CES4244500057</td><td>42445000</td><td>Food and beverage stores</td><td>1352705</td></tr><tr><td>CEU4142400082</td><td>41424000</td><td>Nondurable goods</td><td>1348136</td></tr><tr><td>CEU4142512057</td><td>41425120</td><td>Wholesale trade agents and brokers</td><td>1347220</td></tr><tr><td>CEU4348400057</td><td>43484000</td><td>Truck transportation</td><td>1346733</td></tr><tr><td>CEU4244500057</td><td>42445000</td><td>Food and beverage stores</td><td>1338097</td></tr><tr><td>CES6562400082</td><td>65624000</td><td>Social assistance</td><td>1337022</td></tr><tr><td>CEU6054160082</td><td>60541600</td><td>Management and technical consulting services</td><td>1336594</td></tr><tr><td>CES6054160082</td><td>60541600</td><td>Management and technical consulting services</td><td>1330587</td></tr><tr><td>CES4142512057</td><td>41425120</td><td>Wholesale trade agents and brokers</td><td>1317589</td></tr><tr><td>CEU5552420057</td><td>55524200</td><td>Insurance agencies</td><td>1315375</td></tr><tr><td>CEU6054151282</td><td>60541512</td><td>Computer systems design services</td><td>1309441</td></tr><tr><td>CES3231100057</td><td>32311000</td><td>Food manufacturing</td><td>1293730</td></tr><tr><td>CEU6054170057</td><td>60541700</td><td>Scientific research and development services</td><td>1283264</td></tr><tr><td>CES7072251357</td><td>70722513</td><td>Limited-service restaurants</td><td>1281353</td></tr><tr><td>CES5552420057</td><td>55524200</td><td>Insurance agencies</td><td>1281029</td></tr><tr><td>CEU3231100057</td><td>32311000</td><td>Food manufacturing</td><td>1275631</td></tr><tr><td>CES6054151282</td><td>60541512</td><td>Computer systems design services</td><td>1274481</td></tr><tr><td>CES6054170057</td><td>60541700</td><td>Scientific research and development services</td><td>1265137</td></tr><tr><td>CEU3133300057</td><td>31333000</td><td>Machinery</td><td>1259875</td></tr><tr><td>CES3133600082</td><td>31336000</td><td>Transportation equipment</td><td>1257764</td></tr><tr><td>CES3133300057</td><td>31333000</td><td>Machinery</td><td>1251217</td></tr><tr><td>CEU3133600082</td><td>31336000</td><td>Transportation equipment</td><td>1242685</td></tr><tr><td>CEU4244110057</td><td>42441100</td><td>Automobile dealers</td><td>1239175</td></tr><tr><td>CEU7072251357</td><td>70722513</td><td>Limited-service restaurants</td><td>1237183</td></tr><tr><td>CES4244110057</td><td>42441100</td><td>Automobile dealers</td><td>1232818</td></tr><tr><td>CEU5051100057</td><td>50511000</td><td>Publishing industries</td><td>1227512</td></tr><tr><td>CES2023700057</td><td>20237000</td><td>Heavy and civil engineering construction</td><td>1221764</td></tr><tr><td>CEU5552411057</td><td>55524110</td><td>Direct life and health insurance carriers</td><td>1216763</td></tr><tr><td>CEU6054171057</td><td>60541710</td><td>Research and development in the physical</td><td>1207983</td></tr><tr><td>CEU6054120057</td><td>60541200</td><td>Accounting and bookkeeping services</td><td>1202203</td></tr><tr><td>CEU6054151182</td><td>60541511</td><td>Custom computer programming services</td><td>1198283</td></tr><tr><td>CES6054171057</td><td>60541710</td><td>Research and development in the physical</td><td>1188296</td></tr><tr><td>CES5051100057</td><td>50511000</td><td>Publishing industries</td><td>1183283</td></tr><tr><td>CES4244510057</td><td>42445100</td><td>Grocery stores</td><td>1180650</td></tr><tr><td>CES4244100082</td><td>42441000</td><td>Motor vehicle and parts dealers</td><td>1180297</td></tr><tr><td>CES6054151182</td><td>60541511</td><td>Custom computer programming services</td><td>1173494</td></tr><tr><td>CES5552411057</td><td>55524110</td><td>Direct life and health insurance carriers</td><td>1169424</td></tr><tr><td>CEU4244510057</td><td>42445100</td><td>Grocery stores</td><td>1168906</td></tr><tr><td>CES7071000057</td><td>70710000</td><td>Arts</td><td>1167355</td></tr><tr><td>CEU4244100082</td><td>42441000</td><td>Motor vehicle and parts dealers</td><td>1163420</td></tr><tr><td>CES6056170057</td><td>60561700</td><td>Services to buildings and dwellings</td><td>1150182</td></tr><tr><td>CES4348400082</td><td>43484000</td><td>Truck transportation</td><td>1131821</td></tr><tr><td>CES4244511057</td><td>42445110</td><td>Supermarkets and other grocery stores</td><td>1120814</td></tr><tr><td>CEU4244111057</td><td>42441110</td><td>New car dealers</td><td>1119385</td></tr><tr><td>CES6054120057</td><td>60541200</td><td>Accounting and bookkeeping services</td><td>1116237</td></tr><tr><td>CES2023822057</td><td>20238220</td><td>Plumbing and HVAC contractors</td><td>1115270</td></tr><tr><td>CEU4244511057</td><td>42445110</td><td>Supermarkets and other grocery stores</td><td>1110354</td></tr><tr><td>CES4244111057</td><td>42441110</td><td>New car dealers</td><td>1110063</td></tr><tr><td>CEU6562410057</td><td>65624100</td><td>Individual and family services</td><td>1105190</td></tr><tr><td>CES6562410057</td><td>65624100</td><td>Individual and family services</td><td>1095365</td></tr><tr><td>CEU6054110082</td><td>60541100</td><td>Legal services</td><td>1093898</td></tr><tr><td>CEU4348400082</td><td>43484000</td><td>Truck transportation</td><td>1092427</td></tr><tr><td>CEU5552300082</td><td>55523000</td><td>NULL</td><td>1087325</td></tr><tr><td>CEU3232500057</td><td>32325000</td><td>Chemicals</td><td>1086916</td></tr><tr><td>CES3232500057</td><td>32325000</td><td>Chemicals</td><td>1083956</td></tr><tr><td>CEU2023822057</td><td>20238220</td><td>Plumbing and HVAC contractors</td><td>1082068</td></tr><tr><td>CEU7071000057</td><td>70710000</td><td>Arts</td><td>1074458</td></tr><tr><td>CEU6054161082</td><td>60541610</td><td>Management consulting services</td><td>1066602</td></tr><tr><td>CES4245200082</td><td>42452000</td><td>General merchandise stores</td><td>1065807</td></tr><tr><td>CES6054110082</td><td>60541100</td><td>Legal services</td><td>1058862</td></tr><tr><td>CES6054161082</td><td>60541610</td><td>Management consulting services</td><td>1053691</td></tr><tr><td>CEU3133600157</td><td>31336001</td><td>NULL</td><td>1053186</td></tr><tr><td>CES6054134082</td><td>60541340</td><td>NULL</td><td>1051499</td></tr><tr><td>CES8081100057</td><td>80811000</td><td>Repair and maintenance</td><td>1051091</td></tr><tr><td>CES3133600157</td><td>31336001</td><td>NULL</td><td>1050677</td></tr><tr><td>CEU4245200082</td><td>42452000</td><td>General merchandise stores</td><td>1049973</td></tr><tr><td>CES5552300082</td><td>55523000</td><td>NULL</td><td>1044224</td></tr><tr><td>CEU6054134082</td><td>60541340</td><td>NULL</td><td>1042223</td></tr><tr><td>CES2023821057</td><td>20238210</td><td>Electrical contractors</td><td>1039534</td></tr><tr><td>CEU8081100057</td><td>80811000</td><td>Repair and maintenance</td><td>1038855</td></tr><tr><td>CEU6054111082</td><td>60541110</td><td>Offices of lawyers</td><td>1038464</td></tr><tr><td>CEU2023700057</td><td>20237000</td><td>Heavy and civil engineering construction</td><td>1023452</td></tr><tr><td>CEU5051700057</td><td>50517000</td><td>Telecommunications</td><td>1020155</td></tr><tr><td>CEU6562310057</td><td>65623100</td><td>Nursing care facilities</td><td>1017723</td></tr><tr><td>CES7072100057</td><td>70721000</td><td>Accommodation</td><td>1008168</td></tr><tr><td>CES2023600082</td><td>20236000</td><td>Construction of buildings</td><td>1008035</td></tr><tr><td>CEU5552210082</td><td>55522100</td><td>Depository credit intermediation</td><td>1004069</td></tr><tr><td>CES6054111082</td><td>60541110</td><td>Offices of lawyers</td><td>1004009</td></tr><tr><td>CEU6056170057</td><td>60561700</td><td>Services to buildings and dwellings</td><td>999862</td></tr><tr><td>CES6562310057</td><td>65623100</td><td>Nursing care facilities</td><td>994994</td></tr><tr><td>CES5051700057</td><td>50517000</td><td>Telecommunications</td><td>992441</td></tr><tr><td>CES2023620057</td><td>20236200</td><td>Nonresidential building</td><td>990555</td></tr><tr><td>CEU2023821057</td><td>20238210</td><td>Electrical contractors</td><td>988806</td></tr><tr><td>CEU6054161157</td><td>60541611</td><td>Administrative management consulting services</td><td>981156</td></tr><tr><td>CES7072110057</td><td>70721100</td><td>Traveler accommodation</td><td>980738</td></tr><tr><td>CES4244500082</td><td>42445000</td><td>Food and beverage stores</td><td>974710</td></tr><tr><td>CEU1000000057</td><td>10000000</td><td>Mining and logging</td><td>973773</td></tr><tr><td>CES5552210082</td><td>55522100</td><td>Depository credit intermediation</td><td>971796</td></tr><tr><td>CES7072251382</td><td>70722513</td><td>Limited-service restaurants</td><td>969748</td></tr><tr><td>CES1000000057</td><td>10000000</td><td>Mining and logging</td><td>966707</td></tr><tr><td>CES4348410057</td><td>43484100</td><td>General freight trucking</td><td>966602</td></tr><tr><td>CEU4244500082</td><td>42445000</td><td>Food and beverage stores</td><td>963315</td></tr><tr><td>CEU7072100057</td><td>70721000</td><td>Accommodation</td><td>958129</td></tr><tr><td>CES6054161157</td><td>60541611</td><td>Administrative management consulting services</td><td>955447</td></tr><tr><td>CEU2023620057</td><td>20236200</td><td>Nonresidential building</td><td>953792</td></tr><tr><td>CEU4348410057</td><td>43484100</td><td>General freight trucking</td><td>952051</td></tr><tr><td>CEU4142340057</td><td>41423400</td><td>Commercial equipment</td><td>949056</td></tr><tr><td>CEU5552412057</td><td>55524120</td><td>Direct insurers</td><td>941433</td></tr><tr><td>CEU2023600082</td><td>20236000</td><td>Construction of buildings</td><td>940800</td></tr><tr><td>CES4000000056</td><td>40000000</td><td>Trade</td><td>939889</td></tr><tr><td>CEU7072110057</td><td>70721100</td><td>Traveler accommodation</td><td>938363</td></tr><tr><td>CEU5552390057</td><td>55523900</td><td>Other financial investment activities</td><td>937922</td></tr><tr><td>CEU1021000057</td><td>10210000</td><td>Mining</td><td>932874</td></tr><tr><td>CEU4000000056</td><td>40000000</td><td>Trade</td><td>928918</td></tr><tr><td>CES1021000057</td><td>10210000</td><td>Mining</td><td>927250</td></tr><tr><td>CEU7072251382</td><td>70722513</td><td>Limited-service restaurants</td><td>922041</td></tr><tr><td>CES4422000057</td><td>44220000</td><td>Utilities</td><td>920941</td></tr><tr><td>CEU4422000057</td><td>44220000</td><td>Utilities</td><td>919164</td></tr><tr><td>CES5552412057</td><td>55524120</td><td>Direct insurers</td><td>917557</td></tr><tr><td>CES4142340057</td><td>41423400</td><td>Commercial equipment</td><td>915034</td></tr><tr><td>CES2023700082</td><td>20237000</td><td>Heavy and civil engineering construction</td><td>908374</td></tr><tr><td>CES5552390057</td><td>55523900</td><td>Other financial investment activities</td><td>905217</td></tr><tr><td>CEU5552420082</td><td>55524200</td><td>Insurance agencies</td><td>894878</td></tr><tr><td>CEU5552320057</td><td>55523200</td><td>NULL</td><td>882519</td></tr><tr><td>CES3133640057</td><td>31336400</td><td>Aerospace products and parts</td><td>879785</td></tr><tr><td>CEU5552421057</td><td>55524210</td><td>Insurance agencies and brokerages</td><td>878065</td></tr><tr><td>CEU6054171257</td><td>60541712</td><td>Physical</td><td>874882</td></tr><tr><td>CEU4142500082</td><td>41425000</td><td>Electronic markets and agents and brokers</td><td>873578</td></tr><tr><td>CEU3133640057</td><td>31336400</td><td>Aerospace products and parts</td><td>872986</td></tr><tr><td>CES5552420082</td><td>55524200</td><td>Insurance agencies</td><td>872398</td></tr><tr><td>CES3133200082</td><td>31332000</td><td>Fabricated metal products</td><td>871298</td></tr><tr><td>CES4244510082</td><td>42445100</td><td>Grocery stores</td><td>868430</td></tr><tr><td>CEU3133200082</td><td>31332000</td><td>Fabricated metal products</td><td>867242</td></tr><tr><td>CEU5553100082</td><td>55531000</td><td>Real estate</td><td>865620</td></tr><tr><td>CES5553100082</td><td>55531000</td><td>Real estate</td><td>862987</td></tr><tr><td>CEU4244510082</td><td>42445100</td><td>Grocery stores</td><td>861224</td></tr><tr><td>CES6054171257</td><td>60541712</td><td>Physical</td><td>860377</td></tr><tr><td>CEU5051120057</td><td>50511200</td><td>Software publishers</td><td>860100</td></tr><tr><td>CES5552421057</td><td>55524210</td><td>Insurance agencies and brokerages</td><td>858730</td></tr><tr><td>CES4142500082</td><td>41425000</td><td>Electronic markets and agents and brokers</td><td>855291</td></tr><tr><td>CES5552320057</td><td>55523200</td><td>NULL</td><td>852241</td></tr><tr><td>CEU4142512082</td><td>41425120</td><td>Wholesale trade agents and brokers</td><td>851551</td></tr><tr><td>CES3231100082</td><td>32311000</td><td>Food manufacturing</td><td>851406</td></tr><tr><td>CEU6562140057</td><td>65621400</td><td>Outpatient care centers</td><td>848281</td></tr><tr><td>CEU6562120057</td><td>65621200</td><td>Offices of dentists</td><td>847345</td></tr><tr><td>CES6056170082</td><td>60561700</td><td>Services to buildings and dwellings</td><td>846000</td></tr><tr><td>CES6562120057</td><td>65621200</td><td>Offices of dentists</td><td>842558</td></tr><tr><td>CEU3231100082</td><td>32311000</td><td>Food manufacturing</td><td>842201</td></tr><tr><td>CES4244110082</td><td>42441100</td><td>Automobile dealers</td><td>839595</td></tr><tr><td>CES6562140057</td><td>65621400</td><td>Outpatient care centers</td><td>839455</td></tr><tr><td>CEU6562410082</td><td>65624100</td><td>Individual and family services</td><td>838886</td></tr><tr><td>CES2023810057</td><td>20238100</td><td>Building foundation and exterior contractors</td><td>833625</td></tr><tr><td>CES4142512082</td><td>41425120</td><td>Wholesale trade agents and brokers</td><td>831319</td></tr><tr><td>CEU4244110082</td><td>42441100</td><td>Automobile dealers</td><td>831131</td></tr><tr><td>CES6562410082</td><td>65624100</td><td>Individual and family services</td><td>828771</td></tr><tr><td>CES4244511082</td><td>42445110</td><td>Supermarkets and other grocery stores</td><td>821282</td></tr></table>"
                    },
                    "metadata": {}
                }
            ],
            "execution_count": 74
        },
        {
            "cell_type": "markdown",
            "source": [
                "2. <span style=\"background-color: rgb(255, 255, 255); font-size: 10pt; white-space: pre-wrap; color: rgb(102, 102, 102); font-family: Arvo, serif;\">Create a Union table comparing average weekly earnings&nbsp; of production and nonsupervisory employees between annual_16 and january_17 using the data type 30.&nbsp; Round to the nearest penny.&nbsp; You should have a column for the average earnings and a column for the year, and the period.</span>"
            ],
            "metadata": {
                "azdata_cell_guid": "1bb0ed09-4b02-4132-910e-5903697628af"
            },
            "attachments": {}
        },
        {
            "cell_type": "code",
            "source": [
                "--avg weekly earnings\r\n",
                "with jan as (\r\n",
                "select\r\n",
                "j.year,\r\n",
                "j.period,\r\n",
                "round(avg(value),2) as jan_avg_weekly_earning\r\n",
                "from LaborStatisticsDB.dbo.january_2017 j\r\n",
                "left join laborstatisticsdb.dbo.series s on j.series_id=s.series_id\r\n",
                "left join LaborStatisticsDB.dbo.industry i on i.industry_code=s.industry_code\r\n",
                "join LaborStatisticsDB.dbo.datatype d on s.data_type_code=d.data_type_code\r\n",
                "\r\n",
                "where d.data_type_code=30\r\n",
                "\r\n",
                "group by j.year, j.period\r\n",
                "),\r\n",
                "\r\n",
                "annual as (\r\n",
                "select\r\n",
                "a.year,\r\n",
                "a.period,\r\n",
                "round(avg(value),2) as ann_avg_weekly_earning\r\n",
                "from LaborStatisticsDB.dbo.annual_2016 a\r\n",
                "left join laborstatisticsdb.dbo.series s on a.series_id=s.series_id\r\n",
                "left join LaborStatisticsDB.dbo.industry i on i.industry_code=s.industry_code\r\n",
                "join LaborStatisticsDB.dbo.datatype d on s.data_type_code=d.data_type_code\r\n",
                "\r\n",
                "where d.data_type_code=30\r\n",
                "\r\n",
                "group by a.year, a.period\r\n",
                ")\r\n",
                "\r\n",
                "select \r\n",
                "jan.year,\r\n",
                "jan.period,\r\n",
                "jan.jan_avg_weekly_earning as avg_weekly_earning\r\n",
                "from jan\r\n",
                "UNION\r\n",
                "select\r\n",
                "annual.year,\r\n",
                "annual.period,\r\n",
                "annual.ann_avg_weekly_earning\r\n",
                "from annual\r\n",
                "\r\n",
                "\r\n",
                ""
            ],
            "metadata": {
                "azdata_cell_guid": "0841b6d6-9af2-41ba-8e28-dc40d08bd061",
                "language": "sql"
            },
            "outputs": [
                {
                    "output_type": "display_data",
                    "data": {
                        "text/html": "(2 rows affected)"
                    },
                    "metadata": {}
                },
                {
                    "output_type": "display_data",
                    "data": {
                        "text/html": "Total execution time: 00:00:00.200"
                    },
                    "metadata": {}
                },
                {
                    "output_type": "execute_result",
                    "metadata": {},
                    "execution_count": 8,
                    "data": {
                        "application/vnd.dataresource+json": {
                            "schema": {
                                "fields": [
                                    {
                                        "name": "year"
                                    },
                                    {
                                        "name": "period"
                                    },
                                    {
                                        "name": "avg_weekly_earning"
                                    }
                                ]
                            },
                            "data": [
                                {
                                    "year": "2016",
                                    "period": "M13",
                                    "avg_weekly_earning": "797.2"
                                },
                                {
                                    "year": "2017",
                                    "period": "M01",
                                    "avg_weekly_earning": "808.53"
                                }
                            ]
                        },
                        "text/html": [
                            "<table>",
                            "<tr><th>year</th><th>period</th><th>avg_weekly_earning</th></tr>",
                            "<tr><td>2016</td><td>M13</td><td>797.2</td></tr>",
                            "<tr><td>2017</td><td>M01</td><td>808.53</td></tr>",
                            "</table>"
                        ]
                    }
                }
            ],
            "execution_count": 8
        },
        {
            "cell_type": "markdown",
            "source": [
                "## <span style=\"font-size:12pt;font-family:Montserrat, sans-serif;color:rgb(53, 74, 95);background-color:rgb(255, 255, 255);font-weight:700;vertical-align:baseline;white-space:pre-wrap;\">Summarize Your Results</span>\n",
                "\n",
                "<span style=\"font-size:10pt;font-family:Arvo, serif;color:rgb(102, 102, 102);background-color:rgb(255, 255, 255);vertical-align:baseline;white-space:pre-wrap;\">With what you know now about the </span> <span style=\"background-color:rgb(255, 255, 255);color:rgb(102, 102, 102);font-family:&quot;Times New Roman&quot;;font-size:13.3333px;white-space:pre-wrap;\">Bureau of Labor Statistics (BLS) Current Employment Survey (CES) results and working with the</span> <span style=\"color:rgb(102, 102, 102);white-space:pre-wrap;font-family:&quot;Times New Roman&quot;;font-size:13.3333px;\">Labor Statistics Database</span><span style=\"background-color:rgb(255, 255, 255);color:rgb(102, 102, 102);font-family:Arvo, serif;font-size:10pt;white-space:pre-wrap;\">, answer the following questions. Note that while this is subjective, you should include relevant data to back up your opinion.</span>\n",
                "\n",
                "1. <span style=\"background-color:rgb(255, 255, 255);font-size:10pt;white-space:pre-wrap;color:rgb(102, 102, 102);font-family:Arvo, serif;\">During which time period did production and nonsupervisory employees fare better? Production and non supervisory employees fared better in 2017 when their average weekly earnings were higher.</span>"
            ],
            "metadata": {
                "azdata_cell_guid": "780f65a6-b9e7-4f24-9132-293c47f559e8"
            },
            "attachments": {}
        },
        {
            "cell_type": "markdown",
            "source": [
                "Double click here to add your answer"
            ],
            "metadata": {
                "azdata_cell_guid": "f11f1fb2-f7d1-41e5-bc9c-84087d7cfc93"
            },
            "attachments": {}
        },
        {
            "cell_type": "markdown",
            "source": [
                "2. <span style=\"background-color: rgb(255, 255, 255); font-size: 10pt; white-space: pre-wrap; color: rgb(102, 102, 102); font-family: Arvo, serif;\">In which industries did production and nonsupervisory employees fare better?</span>\n",
                "\n",
                "<span style=\"font-size: 13.3333px; white-space: pre-wrap;\">Production and nonsupervisory employees faired better in private industries.</span>"
            ],
            "metadata": {
                "azdata_cell_guid": "f606e5e5-f6f1-4070-bbfa-e31617b43e56"
            },
            "attachments": {}
        },
        {
            "cell_type": "markdown",
            "source": [
                "Double click here to add your answer."
            ],
            "metadata": {
                "azdata_cell_guid": "94e18f5d-b87b-4ba6-b1fd-bde035dafc04"
            },
            "attachments": {}
        },
        {
            "cell_type": "markdown",
            "source": [
                "3. <span style=\"font-size: 10pt; font-family: Arvo, serif; color: rgb(102, 102, 102); background-color: rgb(255, 255, 255); font-variant-numeric: normal; font-variant-east-asian: normal; vertical-align: baseline; white-space: pre-wrap;\">Now that you have explored the datasets, is there any data or information that you wish you had in this analysis? It would be interesting to know the rate of inflation and to compare the % wage increase from 2016 to 2017 to the rate of inflation.</span>"
            ],
            "metadata": {
                "azdata_cell_guid": "101e4449-601a-46c6-b217-23f3339cfa76"
            },
            "attachments": {}
        },
        {
            "cell_type": "markdown",
            "source": [
                "Double click here to add your answer."
            ],
            "metadata": {
                "azdata_cell_guid": "d07e9180-f5e0-49b4-b395-2c6c8a5f8aac"
            },
            "attachments": {}
        }
    ]
}